{
 "cells": [
  {
   "cell_type": "markdown",
   "source": [
    "### <u> string(문자열) </u>\n",
    "```python\n",
    "    변수 = '문자열' (혹은 \" \")\n",
    "```"
   ],
   "metadata": {}
  },
  {
   "cell_type": "code",
   "execution_count": null,
   "source": [
    "a='Hello world'\n",
    "print(a[0])\n",
    "print(a[-1])\n",
    "print(a[-11])\n",
    "print(a[0:])\n",
    "print(a[:6])\n",
    "print(a[1:2]) #마지막 인덱스는 불포함"
   ],
   "outputs": [],
   "metadata": {}
  },
  {
   "cell_type": "code",
   "execution_count": null,
   "source": [
    "sentence='나는 파이썬을 공부한다'\n",
    "sentence2=\"프로그래밍을 하고 싶다\"\n",
    "print(sentence)\n",
    "print(sentence2)\n",
    "\n",
    "sentence3= '''\n",
    "i study python.\n",
    "HoHo\n",
    "i want to program.\n",
    "'''\n",
    "print(sentence3)"
   ],
   "outputs": [],
   "metadata": {}
  },
  {
   "cell_type": "code",
   "execution_count": null,
   "source": [
    "jumin='994556-1234567'\n",
    "if jumin[7] == '1' :\n",
    "    a='남'\n",
    "else:\n",
    "    a='여'\n",
    "print('성별 : '+ a)\n",
    "print('생년 : ' + jumin[0:2])"
   ],
   "outputs": [],
   "metadata": {}
  },
  {
   "cell_type": "code",
   "execution_count": null,
   "source": [
    "example1='Python is very easy.'\n",
    "print(example1.lower()) #소문자로 출력\n",
    "print(example1.upper()) # 대문자로 출력\n",
    "print(example1[0].islower()) #소문자인지 확인\n",
    "print(len(example1)) #문자열의 길이\n",
    "print(example1.replace('Python', 'C++'))  #문자열 바꾸기\n",
    "print(example1)\n",
    "print(example1.count('y')) #문자의 개수 찾기\n",
    "print(example1.find('v')) # 문자 인덱스 찾기, 찾는문자 없으면 -1 리턴\n",
    "print(example1.index('y', 3)) #인덱스 3번부터 시작, 'y' 인텍스 찾기, 없으면 오류 "
   ],
   "outputs": [],
   "metadata": {}
  },
  {
   "cell_type": "code",
   "execution_count": null,
   "source": [
    "a = 'hello world'\n",
    "print(a.upper())\n",
    "print(a.replace('o','1'))\n",
    "\n",
    "b=int(input(\"What is your age?\")) #input함수는 문자열 변수\n",
    "print(\"Your next age is\", b+1, \".\")"
   ],
   "outputs": [],
   "metadata": {}
  },
  {
   "cell_type": "code",
   "execution_count": null,
   "source": [
    "from collections import Counter\n",
    "a = 'hello world. this world is a very beautiful day. this day is monday.'\n",
    "my_dict=Counter(a.split())\n",
    "print(my_dict)\n"
   ],
   "outputs": [],
   "metadata": {}
  },
  {
   "cell_type": "code",
   "execution_count": null,
   "source": [
    "print(ord(\"A\"))\n",
    "print(ord(\"가\"))\n",
    "print(chr(66))\n",
    "print(chr(44033))\n"
   ],
   "outputs": [],
   "metadata": {}
  },
  {
   "cell_type": "code",
   "execution_count": null,
   "source": [
    "s=input(\"소스 화일명을 입력하시오: \")\n",
    "if s.endswith(\".py\"):\n",
    "    print(\"올바른 파일입니다.\")\n",
    "else:\n",
    "    print(\"올바른 파일이 아닙니다.\")"
   ],
   "outputs": [],
   "metadata": {}
  },
  {
   "cell_type": "code",
   "execution_count": null,
   "source": [
    "add=\"www.nover.com\"\n",
    "bb=add.replace(\"com\", \"co.kr\")\n",
    "print(add)\n",
    "print(bb)\n",
    "print(add.find(\"o\"))\n",
    "print(add.rfind(\"o\"))\n",
    "print(add.count(\"o\"))\n",
    "print(add.count(\"o\",0,9))"
   ],
   "outputs": [],
   "metadata": {}
  },
  {
   "cell_type": "code",
   "execution_count": null,
   "source": [
    "a=\"qwwoqoe\"\n",
    "b=\"123a\"\n",
    "print(a.isalpha())\n",
    "print(b.isdigit())"
   ],
   "outputs": [],
   "metadata": {}
  },
  {
   "cell_type": "code",
   "execution_count": null,
   "source": [
    "a=\"  ###qwwoqoe####  \"\n",
    "b= a.strip()\n",
    "print(\"b=\"+b)\n",
    "print(\"b.strip=\"+b.strip(\"#\"))\n"
   ],
   "outputs": [],
   "metadata": {}
  },
  {
   "cell_type": "code",
   "execution_count": null,
   "source": [
    "a = 'hello world. this world is a very beautiful day. this day is monday.'\n",
    "print(a.split('. '))\n",
    "print(list(a))"
   ],
   "outputs": [],
   "metadata": {}
  },
  {
   "cell_type": "code",
   "execution_count": null,
   "source": [
    "a=\"-\".join([\"apple\", \"banana\", \"orange\"])\n",
    "print(a)\n",
    "print(\"*\".join(a.split(\"-\")))\n"
   ],
   "outputs": [],
   "metadata": {}
  },
  {
   "cell_type": "code",
   "execution_count": null,
   "source": [
    "#acronym \n",
    "acronym=\"\"\n",
    "name = input(\"Input Full english name:\")\n",
    "for word in name.upper().split():\n",
    "    acronym += word[0]\n",
    "print(f\"'{name}'의 acronym은 {acronym}입니다.\")\n",
    "\n"
   ],
   "outputs": [],
   "metadata": {}
  },
  {
   "cell_type": "code",
   "execution_count": null,
   "source": [
    "#OTP\n",
    "import random\n",
    "num= \"0123456789\"\n",
    "passlen = 5\n",
    "print(\"\".join(random.sample(num, passlen)))"
   ],
   "outputs": [],
   "metadata": {}
  },
  {
   "cell_type": "code",
   "execution_count": null,
   "source": [],
   "outputs": [],
   "metadata": {}
  }
 ],
 "metadata": {
  "kernelspec": {
   "name": "python3",
   "display_name": "Python 3.9.6 64-bit ('3.9')"
  },
  "language_info": {
   "codemirror_mode": {
    "name": "ipython",
    "version": 3
   },
   "file_extension": ".py",
   "mimetype": "text/x-python",
   "name": "python",
   "nbconvert_exporter": "python",
   "pygments_lexer": "ipython3",
   "version": "3.9.6"
  },
  "interpreter": {
   "hash": "7812ea015bdcee6f23a998adcdd2ef97c151c0c241b7b7070987d9313e41299d"
  }
 },
 "nbformat": 4,
 "nbformat_minor": 4
}