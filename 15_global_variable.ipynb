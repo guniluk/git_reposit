{
 "cells": [
  {
   "cell_type": "code",
   "execution_count": 5,
   "source": [
    "gun=10\n",
    "\n",
    "def checkpoint(soldiers) :\n",
    "    global gun  # 전역변수를 정의\n",
    "    gun=gun-soldiers\n",
    "    print('남은 총기는 : {0}개'.format(gun))\n",
    "\n",
    "print('전체 총 : {0}'.format(gun))\n",
    "checkpoint(7)\n",
    "print('남은 총 : {0}'.format(gun))\n",
    "    "
   ],
   "outputs": [
    {
     "output_type": "stream",
     "name": "stdout",
     "text": [
      "전체 총 : 10\n",
      "남은 총기는 : 3개\n",
      "남은 총 : 3\n"
     ]
    }
   ],
   "metadata": {}
  },
  {
   "cell_type": "code",
   "execution_count": 6,
   "source": [
    "1.79*1.79*22\n"
   ],
   "outputs": [
    {
     "output_type": "execute_result",
     "data": {
      "text/plain": [
       "70.4902"
      ]
     },
     "metadata": {},
     "execution_count": 6
    }
   ],
   "metadata": {}
  }
 ],
 "metadata": {
  "kernelspec": {
   "name": "python3",
   "display_name": "Python 3.9.6 64-bit ('3.9')"
  },
  "language_info": {
   "codemirror_mode": {
    "name": "ipython",
    "version": 3
   },
   "file_extension": ".py",
   "mimetype": "text/x-python",
   "name": "python",
   "nbconvert_exporter": "python",
   "pygments_lexer": "ipython3",
   "version": "3.9.6"
  },
  "interpreter": {
   "hash": "7812ea015bdcee6f23a998adcdd2ef97c151c0c241b7b7070987d9313e41299d"
  }
 },
 "nbformat": 4,
 "nbformat_minor": 4
}