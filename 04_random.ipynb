{
 "cells": [
  {
   "cell_type": "markdown",
   "source": [
    "### <u>랜덤(random)</u>\n",
    "> random 함수 사용법  "
   ],
   "metadata": {}
  },
  {
   "cell_type": "code",
   "execution_count": null,
   "source": [
    "from random import *\n",
    "print(random())\n",
    "print(randrange(1,46))"
   ],
   "outputs": [],
   "metadata": {}
  },
  {
   "cell_type": "code",
   "execution_count": null,
   "source": [
    "# 45명 중에 치킨 1명, 커피 5명 당첨자 선정\n",
    "from random import *\n",
    "lst=list(range(1,46,1))\n",
    "print(lst)\n",
    "shuffle(lst)\n",
    "print(lst)\n",
    "ch= sample(lst, 6)\n",
    "print('치킨 당첨 :', ch[0])\n",
    "print('커피 당첨자는 : {}'.format(ch[1:]) )"
   ],
   "outputs": [],
   "metadata": {}
  },
  {
   "cell_type": "code",
   "execution_count": null,
   "source": [
    "from random import * #random 라이브러리에서 모든 함수를 불러 온다\n",
    "i=0\n",
    "while i < 6 :\n",
    "    print(int(random()*45+1)) # 1~45 난수 생성\n",
    "    i += 1"
   ],
   "outputs": [],
   "metadata": {}
  },
  {
   "cell_type": "code",
   "execution_count": null,
   "source": [
    "from random import * #random 라이브러리에서 모든 함수를 불러 온다\n",
    "i=0\n",
    "while i < 6 :\n",
    "    print(int(randint(1, 45))) # 1부터 45까지 난수 생성\n",
    "    i += 1"
   ],
   "outputs": [],
   "metadata": {}
  },
  {
   "cell_type": "code",
   "execution_count": null,
   "source": [
    "date=[i for i in range(1,32)]\n",
    "print(date)"
   ],
   "outputs": [],
   "metadata": {}
  }
 ],
 "metadata": {
  "kernelspec": {
   "name": "python3",
   "display_name": "Python 3.9.6 64-bit ('3.9')"
  },
  "language_info": {
   "codemirror_mode": {
    "name": "ipython",
    "version": 3
   },
   "file_extension": ".py",
   "mimetype": "text/x-python",
   "name": "python",
   "nbconvert_exporter": "python",
   "pygments_lexer": "ipython3",
   "version": "3.9.6"
  },
  "interpreter": {
   "hash": "7812ea015bdcee6f23a998adcdd2ef97c151c0c241b7b7070987d9313e41299d"
  }
 },
 "nbformat": 4,
 "nbformat_minor": 4
}