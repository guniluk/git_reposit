{
 "cells": [
  {
   "cell_type": "markdown",
   "source": [
    "### <u>Function(함수)</u>\n",
    "```python\n",
    "    def 함수이름(매개변수1, ) :\n",
    "        변수\n",
    "        명령문\n",
    "        return 리턴값 (값을 반환하지 않을땐 생략)\n",
    "```\n",
    "- 함수를 호출(사용)하기 전에 정의되어야 함, 그러나 함수내에서는 아직 정의가 안된 함수호출이 가능 "
   ],
   "metadata": {}
  },
  {
   "cell_type": "code",
   "execution_count": null,
   "source": [
    "from math import *  # math 라이브러리에서 모든 함수를 불러 옴\n",
    "print(floor(-1.79)) #내림\n",
    "print(ceil(-3.1))  #올림\n",
    "print(sqrt(25))"
   ],
   "outputs": [],
   "metadata": {}
  },
  {
   "cell_type": "code",
   "execution_count": 3,
   "source": [
    "def multiadd(a,b,c=10):  #c의 기본값을 10으로 지정\n",
    "    \"\"\"\n",
    "    Args:\n",
    "        a ([type]): number\n",
    "        b ([type]): number\n",
    "        c (int, optional): number. Defaults to 10.\n",
    "    Returns:\n",
    "        [type]: number\n",
    "        볼려면 help(함수명)\n",
    "    \"\"\"\n",
    "    help(multiadd)\n",
    "    ii=a*b\n",
    "    jj=ii+c\n",
    "    return jj\n",
    "\n",
    "print(multiadd(4,2,3))\n",
    "print(multiadd(4,2))"
   ],
   "outputs": [
    {
     "output_type": "stream",
     "name": "stdout",
     "text": [
      "Help on function multiadd in module __main__:\n",
      "\n",
      "multiadd(a, b, c=10)\n",
      "    Args:\n",
      "        a ([type]): number\n",
      "        b ([type]): number\n",
      "        c (int, optional): number. Defaults to 10.\n",
      "    Returns:\n",
      "        [type]: number\n",
      "        볼려면 help(함수명)\n",
      "\n",
      "11\n",
      "Help on function multiadd in module __main__:\n",
      "\n",
      "multiadd(a, b, c=10)\n",
      "    Args:\n",
      "        a ([type]): number\n",
      "        b ([type]): number\n",
      "        c (int, optional): number. Defaults to 10.\n",
      "    Returns:\n",
      "        [type]: number\n",
      "        볼려면 help(함수명)\n",
      "\n",
      "18\n"
     ]
    }
   ],
   "metadata": {}
  },
  {
   "cell_type": "code",
   "execution_count": null,
   "source": [
    "def deposit(balance, money):\n",
    "    print(\"입금이 완료되었습니다. 잔액은 {0}원 입니다.\".format(balance+money))\n",
    "    return balance+money\n",
    "\n",
    "balance=0\n",
    "balance=deposit(balance, 10000)\n",
    "\n",
    "def withdraw(balance, money):\n",
    "    if balance >= money:\n",
    "        print(\"인출 {0}원 완료되었습니다. 잔액은 {1}원 입니다\".format(money,\n",
    "        balance-money))\n",
    "    else:\n",
    "        print('인출이 실패했습니다. 잔액은 {0}원 입니다'.format(balance))\n",
    "        \n",
    "money2=int(input('인출할 금액을 입력하세요: '))\n",
    "balance=withdraw(balance, money2)"
   ],
   "outputs": [],
   "metadata": {}
  },
  {
   "cell_type": "code",
   "execution_count": null,
   "source": [
    "def profile(name, age=21, lang='한국어') :  # 이름, 나이, 언어 프로파일, 기본값 지정\n",
    "    print('이름:{0} \\t나이:{1} \\t언어:{2}'.format(name, age, lang))\n",
    "    \n",
    "profile('백영하',50,'영어')\n",
    "profile('백건일',25,'중국어')\n",
    "profile('백건욱')\n",
    "profile('이현희',50)\n",
    "profile('이종갑',lang='영어')"
   ],
   "outputs": [],
   "metadata": {}
  },
  {
   "cell_type": "code",
   "execution_count": null,
   "source": [
    "#가변 인자\n",
    "def profile(name, age, *lang) :  \n",
    "    print('이름:{0} 나이:{1}'.format(name, age), end=' ')\n",
    "    for lan in lang:\n",
    "        print(lan, end=\"  \")\n",
    "    print()\n",
    "\n",
    "\n",
    "profile('백영하',50,'영어')\n",
    "profile('백영하',50,'영어', '중국어')\n",
    "profile('백영하',50,'영어', '중국어', '프랑스어')"
   ],
   "outputs": [],
   "metadata": {}
  },
  {
   "cell_type": "code",
   "execution_count": null,
   "source": [
    "#주어진 숫자 리스트의 평균을 구하는 함수를 출력\n",
    "def aver(a):\n",
    "    i, sum =0,0\n",
    "    while i < len(a):\n",
    "        sum+=a[i]\n",
    "        i+=1\n",
    "    return sum/len(a)\n",
    "\n",
    "a=[1,2,3,4,5,6,7,8,9,10]\n",
    "print(aver(a))"
   ],
   "outputs": [],
   "metadata": {}
  },
  {
   "cell_type": "code",
   "execution_count": null,
   "source": [
    "#소수 판별하는 함수\n",
    "def is_prime(num):\n",
    "    k=range(2,num)\n",
    "    for i in k:\n",
    "        if num % i ==0:\n",
    "            return False \n",
    "    return True\n",
    "\n",
    "print(is_prime(32))\n",
    "print(is_prime(2))\n",
    "        "
   ],
   "outputs": [],
   "metadata": {}
  },
  {
   "cell_type": "code",
   "execution_count": null,
   "source": [
    "#피자의 면적을 비교하는 함수\n",
    "def main():\n",
    "    print(\"20cm 두개 피자의 면적: \", get_area(20)*2)\n",
    "    print(\"30cm 한개 피자의 면적: \", get_area(30))\n",
    "def get_area(radius):\n",
    "    if radius > 0 :\n",
    "        area = 3.14*radius**2\n",
    "    else:\n",
    "        area = 0\n",
    "    return area\n",
    "\n",
    "main()    "
   ],
   "outputs": [],
   "metadata": {}
  },
  {
   "cell_type": "code",
   "execution_count": null,
   "source": [
    "#가변인수\n",
    "def varyfunc(*args):\n",
    "    sum=0\n",
    "    for i in args:\n",
    "        sum += i\n",
    "    return sum\n",
    "\n",
    "print(varyfunc(10,20))\n",
    "print(varyfunc(10,20,30,40,100))"
   ],
   "outputs": [],
   "metadata": {}
  },
  {
   "cell_type": "code",
   "execution_count": null,
   "source": [
    "def get_info():\n",
    "    name = input(\"이름을 입력하시오: \")\n",
    "    age = int(input(\"나이를 입력하세오\"))\n",
    "    return name, age\n",
    "my_name, my_age=get_info()\n",
    "print(\"이름은 {}이고 나이는 {}입니다.\".format(my_name, my_age))"
   ],
   "outputs": [],
   "metadata": {}
  },
  {
   "cell_type": "markdown",
   "source": [
    "### <u>lambda 함수</u>\n",
    "```python\n",
    "    변수 = lambda 인자 : 계산식\n",
    "```\n",
    "- 단일문으로 표현되는 익명 함수"
   ],
   "metadata": {}
  },
  {
   "cell_type": "code",
   "execution_count": null,
   "source": [
    "square= lambda x : x**2\n",
    "print(type(square))\n",
    "square(7)"
   ],
   "outputs": [],
   "metadata": {}
  },
  {
   "cell_type": "code",
   "execution_count": null,
   "source": [
    "f = lambda x, y : x+y\n",
    "print(f(10,20))\n",
    "print(f(100,200))\n",
    "list1=[(1,2),(3,4),(5,6)]\n",
    "for i, j in list1:\n",
    "    print(f(i,j))"
   ],
   "outputs": [],
   "metadata": {}
  },
  {
   "cell_type": "code",
   "execution_count": null,
   "source": [
    "f_temp =[0,30,40,70,90]\n",
    "c_temp = list(map(lambda x: (5/9)*(x-32), f_temp))\n",
    "print(c_temp)\n"
   ],
   "outputs": [],
   "metadata": {}
  },
  {
   "cell_type": "code",
   "execution_count": null,
   "source": [
    "orders = [\n",
    "    [\"1\", \"재킷\", 3, 10000],\n",
    "    [\"2\", \"셔츠\", 1, 5000],\n",
    "    [\"3\", \"바지\", 5, 7000],\n",
    "    [\"4\", \"반바지\", 10, 150000],\n",
    "    [\"5\", \"팬티\", 7, 12000]]\n",
    "result = list(map(lambda x: (x[0],x[2]*x[3]), orders))\n",
    "print(result)"
   ],
   "outputs": [],
   "metadata": {}
  }
 ],
 "metadata": {
  "kernelspec": {
   "name": "python3",
   "display_name": "Python 3.9.6 64-bit"
  },
  "language_info": {
   "codemirror_mode": {
    "name": "ipython",
    "version": 3
   },
   "file_extension": ".py",
   "mimetype": "text/x-python",
   "name": "python",
   "nbconvert_exporter": "python",
   "pygments_lexer": "ipython3",
   "version": "3.9.6"
  },
  "interpreter": {
   "hash": "7812ea015bdcee6f23a998adcdd2ef97c151c0c241b7b7070987d9313e41299d"
  }
 },
 "nbformat": 4,
 "nbformat_minor": 4
}