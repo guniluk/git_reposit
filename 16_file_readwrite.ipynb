{
 "cells": [
  {
   "cell_type": "markdown",
   "source": [
    "### <u>화일 읽기,쓰기</u>\n",
    "- format\n",
    "```python\n",
    "    f(파일객체)=open(\"화일디렉토리\", \"mode=r|w|a|r+\", encoding=\"utf8\")\n",
    "    ~~~\n",
    "    f.close()\n",
    "```\n"
   ],
   "metadata": {}
  },
  {
   "cell_type": "code",
   "execution_count": 6,
   "source": [
    "from collections import Counter\n",
    "f=open(\"/users/guniluk/desktop/pg/data/test1.txt\", encoding='utf-8')\n",
    "count=Counter(f.read().split())\n",
    "print(\"단어 출력 횟수: \", count)\n",
    "f.close()"
   ],
   "outputs": [
    {
     "output_type": "stream",
     "name": "stdout",
     "text": [
      "단어 출력 횟수:  Counter({'새로운': 2, '줄을': 2, '추가합니다.': 2, '읽어': 1, '들이기': 1, '위한': 1, '테스크': 1, '화일입니다.': 1, '한': 1, '두': 1, '단어의': 1, '갯수를': 1, '카운트': 1, '합니다.': 1, '종료합니다.': 1})\n"
     ]
    }
   ],
   "metadata": {}
  },
  {
   "cell_type": "code",
   "execution_count": null,
   "source": [
    "with open(\"/users/guniluk/desktop/pg/data/test1.txt\", \"r\") as f:\n",
    "    #print(f.read())  # 화일 전체 읽어 오기\n",
    "    #print(f.readline()) # 한줄만 읽어오기\n",
    "    while True:  # 몇 줄인지 알지 못할때\n",
    "        line= f.readline()\n",
    "        if not line:\n",
    "            break\n",
    "        print(line, end=\"\")    \n",
    "# with에서는 f.close()가 필요 없음  "
   ],
   "outputs": [],
   "metadata": {}
  },
  {
   "cell_type": "code",
   "execution_count": null,
   "source": [
    "w_file=open(\"/users/guniluk/desktop/pg/data/test2.txt\", \"w\", encoding=\"utf8\")\n",
    "print(\"지우고 새로 화일을 만듭니다.\", file= w_file)\n",
    "print(\"지우고 새로운 줄을 추가합니다.\", file= w_file)\n",
    "print(\"지우고 두번째 줄을 추가합니다.\", file= w_file)\n",
    "print(\"지우고 마지막 줄을 추가합니다.222\", file= w_file)\n",
    "w_file.close()              "
   ],
   "outputs": [],
   "metadata": {}
  },
  {
   "cell_type": "code",
   "execution_count": null,
   "source": [
    "w_file=open(\"/users/guniluk/desktop/pg/data/test2.txt\", \"a\", encoding=\"utf8\")\n",
    "print(\"새로 한줄을 추가합니다.333\", file= w_file)\n",
    "print(\"새로운 두 줄을 추가합니다.444\", file= w_file)\n",
    "w_file.close()              "
   ],
   "outputs": [],
   "metadata": {}
  },
  {
   "cell_type": "code",
   "execution_count": null,
   "source": [
    "infile = open(\"/users/guniluk/desktop/pg/data/test2.txt\", \"r\")\n",
    "for line in infile:\n",
    "    # print(line, end=\"\")\n",
    "    print(line.strip())\n",
    "infile.close()"
   ],
   "outputs": [],
   "metadata": {}
  },
  {
   "cell_type": "code",
   "execution_count": null,
   "source": [
    "infile = open(\"/users/guniluk/desktop/pg/data/test2.txt\", \"r\")\n",
    "ch = infile.read(1)\n",
    "while ch != \"\":\n",
    "    print(ch, end=\"#\")\n",
    "    ch = infile.read(1)\n",
    "infile.close()"
   ],
   "outputs": [],
   "metadata": {}
  },
  {
   "cell_type": "code",
   "execution_count": null,
   "source": [
    "import os\n",
    "os.getcwd()\n",
    "os.chdir(\"/users/guniluk/desktop/pg/data\")\n",
    "os.getcwd()\n",
    "\n",
    "arr = os.listdir()  # 작업 디렉토리 안의 화일 리스트\n",
    "for f in arr:\n",
    "    infile = open(f, \"r\", encoding='utf-8')\n",
    "    for line in infile:\n",
    "        e = line.rstrip()\n",
    "        if \"추가\" in e:\n",
    "            print(f, \":\", e)\n",
    "    infile.close()"
   ],
   "outputs": [],
   "metadata": {}
  },
  {
   "cell_type": "code",
   "execution_count": 40,
   "source": [
    "#파일 임의 접근\n",
    "infile = open(\"/users/guniluk/desktop/pg/data/test3.txt\", \"r\")\n",
    "str = infile.read(10) #파일에서 10개 문자 읽음\n",
    "print(f\"읽은 문자열: {str}\")\n",
    "position = infile.tell()  #현재 파일 위치\n",
    "print(f\"현재 위치: {position}\")\n",
    "position = infile.seek(0)  # 파일 맨 처음 위치로 이동\n",
    "print(f\"현재 위치: {position}\")\n",
    "str = infile.read(20)\n",
    "print(f\"읽은 문자열: {str}\")\n",
    "position = infile.tell()\n",
    "print(f\"현재 위치: {position}\")\n",
    "infile.close()"
   ],
   "outputs": [
    {
     "output_type": "stream",
     "name": "stdout",
     "text": [
      "읽은 문자열: ABCDEFGHIJ\n",
      "현재 위치: 10\n",
      "현재 위치: 0\n",
      "읽은 문자열: ABCDEFGHIJKLMNOPQRST\n",
      "현재 위치: 20\n"
     ]
    }
   ],
   "metadata": {}
  },
  {
   "cell_type": "code",
   "execution_count": null,
   "source": [],
   "outputs": [],
   "metadata": {}
  }
 ],
 "metadata": {
  "kernelspec": {
   "name": "python3",
   "display_name": "Python 3.9.6 64-bit ('3.9')"
  },
  "language_info": {
   "codemirror_mode": {
    "name": "ipython",
    "version": 3
   },
   "file_extension": ".py",
   "mimetype": "text/x-python",
   "name": "python",
   "nbconvert_exporter": "python",
   "pygments_lexer": "ipython3",
   "version": "3.9.6"
  },
  "interpreter": {
   "hash": "7812ea015bdcee6f23a998adcdd2ef97c151c0c241b7b7070987d9313e41299d"
  }
 },
 "nbformat": 4,
 "nbformat_minor": 4
}