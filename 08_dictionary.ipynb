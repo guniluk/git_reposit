{
 "cells": [
  {
   "cell_type": "markdown",
   "source": [
    "### <u>dictionary</u>\n",
    "````python\n",
    "    딕셔너리이름 = {키1:값1, 키2:값2, }\n",
    "````\n",
    "- key와 value로 구성"
   ],
   "metadata": {}
  },
  {
   "cell_type": "code",
   "execution_count": null,
   "source": [
    "a={3:'백영하', 10:'이현희', 20:'백건일', 50:'백건욱'}\n",
    "print(a)\n",
    "print(a[20])  #키가 없을 시 바로 프로그램 종료\n",
    "print(a.get(50)) #카가 없을 시 none 출력, 이후 프로그램 실헹\n",
    "print(a.get(60, \"사용 가능\"))\n",
    "for num, name in a.items():\n",
    "    print(str(num).ljust(4), name.rjust(6), sep=':')\n",
    "print('\\n')\n",
    "print(3 in a)\n",
    "print(15 in a)\n",
    "\n",
    "a[15] = '이종갑'\n",
    "print(a)\n",
    "\n",
    "del a[15]\n",
    "print(a)\n",
    "print(a.keys())\n",
    "print(a.values())\n",
    "print(a.items())\n",
    "\n",
    "a.clear()\n",
    "print(a)"
   ],
   "outputs": [],
   "metadata": {}
  },
  {
   "cell_type": "code",
   "execution_count": null,
   "source": [
    "a={3:'백영하', 10:'이현희', 20:'백건일', 50:'백건욱'}\n",
    "a.update({100:'baek', 101:'Lee'})\n",
    "print(a)\n",
    "a.pop(101)\n",
    "print(a)\n",
    "a.popitem()\n",
    "print(a)\n",
    "\n"
   ],
   "outputs": [],
   "metadata": {}
  },
  {
   "cell_type": "code",
   "execution_count": null,
   "source": [
    "fruits = [\"apple\", \"banana\", \"kiwi\"]\n",
    "dic = {f: len(f) for f in fruits}\n",
    "print(dic)"
   ],
   "outputs": [],
   "metadata": {}
  },
  {
   "cell_type": "code",
   "execution_count": null,
   "source": [
    "#english dictionary\n",
    "\n",
    "english_dict={}\n",
    "english_dict[\"one\"] = \"하나, 하나의\"\n",
    "english_dict[\"two\"] = \"둘, 둘의\"\n",
    "english_dict[\"three\"] = \"셋, 셋의\"\n",
    "\n",
    "word = input(\"영어 단어를 입력하시오: \")\n",
    "print(english_dict[word])"
   ],
   "outputs": [],
   "metadata": {}
  }
 ],
 "metadata": {
  "kernelspec": {
   "name": "python3",
   "display_name": "Python 3.9.6 64-bit ('3.9')"
  },
  "language_info": {
   "codemirror_mode": {
    "name": "ipython",
    "version": 3
   },
   "file_extension": ".py",
   "mimetype": "text/x-python",
   "name": "python",
   "nbconvert_exporter": "python",
   "pygments_lexer": "ipython3",
   "version": "3.9.6"
  },
  "interpreter": {
   "hash": "7812ea015bdcee6f23a998adcdd2ef97c151c0c241b7b7070987d9313e41299d"
  }
 },
 "nbformat": 4,
 "nbformat_minor": 4
}