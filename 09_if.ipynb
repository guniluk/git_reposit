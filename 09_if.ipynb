{
 "cells": [
  {
   "cell_type": "markdown",
   "source": [
    "### <u>if 문</u>\n",
    "- format\n",
    "```python\n",
    " if 조건식 :\n",
    "        ~~\n",
    " elif 조건식 :\n",
    "        ~~\n",
    " else:\n",
    "        ~~ \n",
    "```"
   ],
   "metadata": {}
  },
  {
   "cell_type": "code",
   "execution_count": null,
   "source": [
    "if 30>= 50 :\n",
    "    print('6 is greater than 5')\n",
    "    print('Yes, it is true.')\n",
    "else:\n",
    "    print('그냥 출력')"
   ],
   "outputs": [],
   "metadata": {}
  },
  {
   "cell_type": "code",
   "execution_count": null,
   "source": [
    "a=11\n",
    "if a % 2 == 0 :\n",
    "    print('a는 짝수')\n",
    "else:\n",
    "    print('a는 홀수')"
   ],
   "outputs": [],
   "metadata": {}
  },
  {
   "cell_type": "code",
   "execution_count": null,
   "source": [
    "a=18\n",
    "if a % 4 == 0 :\n",
    "    print('a 1')\n",
    "elif a % 4 == 1 :\n",
    "    print('a 2')\n",
    "elif a % 4 == 2 :\n",
    "    print('a 3')\n",
    "else:\n",
    "    print('a 4')"
   ],
   "outputs": [],
   "metadata": {}
  },
  {
   "cell_type": "code",
   "execution_count": null,
   "source": [
    "weather = input(\"오늘 날씨는 어때요?: 비/눈/미세먼지/기타\")  # 직접 값을 입력받는 함수\n",
    "if weather == '비' or weather=='눈':\n",
    "    print(\"우산을 챙기세요\")\n",
    "elif weather == \"미세먼지\":\n",
    "    print(\"마스크를 챙기세요\")\n",
    "else:\n",
    "    print(\"오늘은 준비물이 없어요\")"
   ],
   "outputs": [],
   "metadata": {}
  },
  {
   "cell_type": "code",
   "execution_count": null,
   "source": [
    "temp=int(input(\"오늘 기온은 몇 도에요?:(숫자입력\"))\n",
    "if temp > 30:\n",
    "    print('turn on the air conditioner.')\n",
    "elif temp >20:\n",
    "    print(' It\\'s very comfortable.' )\n",
    "else:\n",
    "    print('Turn on the heater.')"
   ],
   "outputs": [],
   "metadata": {}
  },
  {
   "cell_type": "code",
   "execution_count": null,
   "source": [
    "a, b = (10, 100)\n",
    "\n",
    "if a == 10 :\n",
    "    if b == 6 :\n",
    "        print('a is 10 and b is 6')\n",
    "    else :\n",
    "        print('a is 10 and b is not 6')\n",
    "else:\n",
    "    print('a is not 10')"
   ],
   "outputs": [],
   "metadata": {}
  },
  {
   "cell_type": "markdown",
   "source": [
    "### continue, break\n"
   ],
   "metadata": {}
  },
  {
   "cell_type": "code",
   "execution_count": null,
   "source": [
    "absent = [2, 5]\n",
    "no_book= [8]\n",
    "for student in range(1,11):\n",
    "    if student in absent:\n",
    "        continue\n",
    "    elif student in no_book :\n",
    "        print('class is over, follow me, {0}'.format(student))\n",
    "        break\n",
    "    print('{0}, read the book'.format(student))\n",
    "\n",
    "    "
   ],
   "outputs": [],
   "metadata": {}
  }
 ],
 "metadata": {
  "kernelspec": {
   "name": "python3",
   "display_name": "Python 3.9.6 64-bit ('3.9')"
  },
  "language_info": {
   "codemirror_mode": {
    "name": "ipython",
    "version": 3
   },
   "file_extension": ".py",
   "mimetype": "text/x-python",
   "name": "python",
   "nbconvert_exporter": "python",
   "pygments_lexer": "ipython3",
   "version": "3.9.6"
  },
  "interpreter": {
   "hash": "7812ea015bdcee6f23a998adcdd2ef97c151c0c241b7b7070987d9313e41299d"
  }
 },
 "nbformat": 4,
 "nbformat_minor": 4
}