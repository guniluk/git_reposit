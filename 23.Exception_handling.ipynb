{
 "metadata": {
  "language_info": {
   "codemirror_mode": {
    "name": "ipython",
    "version": 3
   },
   "file_extension": ".py",
   "mimetype": "text/x-python",
   "name": "python",
   "nbconvert_exporter": "python",
   "pygments_lexer": "ipython3",
   "version": "3.9.6"
  },
  "orig_nbformat": 4,
  "kernelspec": {
   "name": "python3",
   "display_name": "Python 3.9.6 64-bit ('3.9')"
  },
  "interpreter": {
   "hash": "7812ea015bdcee6f23a998adcdd2ef97c151c0c241b7b7070987d9313e41299d"
  }
 },
 "nbformat": 4,
 "nbformat_minor": 2,
 "cells": [
  {
   "cell_type": "markdown",
   "source": [
    "## <u> try:, except:, finally: </u> #예외처리\n",
    "```python\n",
    "    try:  #예외가 발생할 수 있는 문장들을 기술\n",
    "        ~~\n",
    "    except err_type1:\n",
    "        ~\n",
    "    except err_type2:\n",
    "        ~\n",
    "    else:  #예외(에러)가 없다면 실행\n",
    "        ~  \n",
    "    finally:  #예외가 발생하던 안하던 항상 실행됨\n",
    "        ~\n",
    "```\n",
    " ## <u> raise </u>\n",
    " ```python\n",
    "    raise err type # 에러를 발생시킴\n",
    "```"
   ],
   "metadata": {}
  },
  {
   "cell_type": "code",
   "execution_count": null,
   "source": [
    "print(\"두수를 나누는 계산입니다.\")\n",
    "try:\n",
    "    x= int(input(\"첫번째 수를 입력하세요: \"))\n",
    "    y= int(input(\"두번째 수를 입력하세요: \"))\n",
    "    z=x/y\n",
    "    print(z)\n",
    "except ZeroDivisionError:\n",
    "    print(\"0으로 나누는 예외발생\")\n",
    "    \n",
    "except ValueError:\n",
    "    print(\"숫자가 아닌 수 입력 예외발생\")"
   ],
   "outputs": [],
   "metadata": {}
  },
  {
   "cell_type": "code",
   "execution_count": null,
   "source": [
    "while True:\n",
    "    try:\n",
    "        n = input(\"정수를 입력하시오: \")\n",
    "        n = int(n)\n",
    "        break\n",
    "    except ValueError:\n",
    "        print(\"정수가 아닙니다. 다시 입력하시오:\")\n",
    "print(\"정수 {0}을 입력했습니다.\".format(n))"
   ],
   "outputs": [],
   "metadata": {}
  },
  {
   "cell_type": "code",
   "execution_count": null,
   "source": [
    "try:\n",
    "    fname = input(\"파일 이름을 입력하시오:\")\n",
    "    infile = open(fname, 'r')\n",
    "except IOError:\n",
    "    print(f\"파일 {fname}을 발견할 수 없습니다.\")"
   ],
   "outputs": [],
   "metadata": {}
  },
  {
   "cell_type": "code",
   "execution_count": null,
   "source": [
    "#한자리 숫자를 받아 나누기 하는 계산기\n",
    "try:\n",
    "    num1 = int(input(\"한자리 숫자를 입력하시오:\"))\n",
    "    num2 = int(input(\"한자리 숫자를 입력하시오:\"))\n",
    "    if num1 >= 10 or num2 >= 10:\n",
    "        raise ValueError\n",
    "    print(f\"{num1} 나누기 {num2}는 {num1/num2}입니다.\")\n",
    "except ValueError:\n",
    "    print(\"10이상 값이 입력되었습니다.\")\n",
    "    "
   ],
   "outputs": [],
   "metadata": {}
  },
  {
   "cell_type": "code",
   "execution_count": 5,
   "source": [
    "# 사용자 정의 에러메세지 생성\n",
    "class My_err(Exception):  #error class definition\n",
    "    def __init__(self, msg):\n",
    "        self.msg = msg\n",
    "    def __str__(self):\n",
    "        return self.msg\n",
    "\n",
    "try:\n",
    "    num1 = int(input(\"한자리 숫자를 입력하시오:\"))\n",
    "    num2 = int(input(\"한자리 숫자를 입력하시오:\"))\n",
    "    if num1 >= 10 or num2 >= 10:\n",
    "        raise My_err(\"입력값 : {0}, {1}\".format(num1, num2))\n",
    "    print(f\"{num1} 나누기 {num2}는 {num1/num2}입니다.\")\n",
    "except My_err as err:\n",
    "    print(\"값이 잘못 입력되었습니다.\")\n",
    "    print(err)\n",
    "        "
   ],
   "outputs": [
    {
     "output_type": "stream",
     "name": "stdout",
     "text": [
      "값이 잘못 입력되었습니다.\n",
      "입력값 : 33, 2\n"
     ]
    }
   ],
   "metadata": {}
  }
 ]
}