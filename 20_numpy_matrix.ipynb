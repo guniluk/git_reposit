{
 "metadata": {
  "language_info": {
   "codemirror_mode": {
    "name": "ipython",
    "version": 3
   },
   "file_extension": ".py",
   "mimetype": "text/x-python",
   "name": "python",
   "nbconvert_exporter": "python",
   "pygments_lexer": "ipython3",
   "version": "3.9.6"
  },
  "orig_nbformat": 4,
  "kernelspec": {
   "name": "python3",
   "display_name": "Python 3.9.6 64-bit ('3.9')"
  },
  "interpreter": {
   "hash": "7812ea015bdcee6f23a998adcdd2ef97c151c0c241b7b7070987d9313e41299d"
  }
 },
 "nbformat": 4,
 "nbformat_minor": 2,
 "cells": [
  {
   "cell_type": "markdown",
   "source": [
    "### <u> numpy </u>\n",
    "```python\n",
    "    import matplotlib.pyplot as plt\n",
    "    import numpy as np\n",
    "    ~~\n",
    "    plt.plot(~)\n",
    "    plt.show()\n",
    "```"
   ],
   "metadata": {}
  },
  {
   "cell_type": "code",
   "execution_count": null,
   "source": [
    "import numpy as np\n",
    "import matplotlib.pyplot as plt\n",
    "\n",
    "ftemp=[55,66,33,78,54,33,22]\n",
    "F = np.array(ftemp)\n",
    "plt.plot(F)\n",
    "plt.show()"
   ],
   "outputs": [],
   "metadata": {}
  },
  {
   "cell_type": "code",
   "execution_count": null,
   "source": [
    "import numpy as np\n",
    "import matplotlib.pyplot as plt\n",
    "A=np.array([1,2,3,4])\n",
    "B=np.array([6,2,6,1])\n",
    "result=A+B\n",
    "print(result)"
   ],
   "outputs": [],
   "metadata": {}
  },
  {
   "cell_type": "code",
   "execution_count": null,
   "source": [
    "import numpy as np\n",
    "import matplotlib.pyplot as plt\n",
    "c=np.array([[1,2,3], [7,8,9], [2,1,4]])\n",
    "print(c)\n",
    "print(c[0][1])"
   ],
   "outputs": [],
   "metadata": {}
  },
  {
   "cell_type": "code",
   "execution_count": null,
   "source": [
    "import numpy as np\n",
    "import matplotlib.pyplot as plt\n",
    "D=np.arange(1,10,2)\n",
    "D=np.linspace(start=1,stop=10,num=100)\n",
    "plt.plot(D)\n",
    "plt.show()"
   ],
   "outputs": [],
   "metadata": {}
  },
  {
   "cell_type": "code",
   "execution_count": null,
   "source": [
    "import numpy as np\n",
    "import matplotlib.pyplot as plt\n",
    "np.random.seed(100)\n",
    "print(np.random.rand(5,3))"
   ],
   "outputs": [],
   "metadata": {}
  },
  {
   "cell_type": "code",
   "execution_count": null,
   "source": [
    "import numpy as np\n",
    "import matplotlib.pyplot as plt\n",
    "pure = np.linspace(1,10,100)\n",
    "noise = np.random.normal(0,1,100)\n",
    "signal=pure + noise\n",
    "plt.plot(signal)\n",
    "plt.show()"
   ],
   "outputs": [],
   "metadata": {}
  },
  {
   "cell_type": "code",
   "execution_count": null,
   "source": [
    "import numpy as np\n",
    "import matplotlib.pyplot as plt\n",
    "numbers=np.random.normal(size=10000)\n",
    "plt.hist(numbers)\n",
    "plt.xlabel(\"values\")\n",
    "plt.ylabel(\"freq\")\n",
    "plt.show()"
   ],
   "outputs": [],
   "metadata": {}
  },
  {
   "cell_type": "code",
   "execution_count": null,
   "source": [
    "import numpy as np\n",
    "import matplotlib.pyplot as plt\n",
    "m, sigma = 10, 2\n",
    "Y1=np.random.randn(10000)\n",
    "Y2=m+sigma*np.random.randn(10000)\n",
    "plt.figure(figsize=(10,6))\n",
    "plt.hist(Y1, bins=20)\n",
    "plt.hist(Y2, bins=20)\n",
    "plt.show()"
   ],
   "outputs": [],
   "metadata": {}
  },
  {
   "cell_type": "code",
   "execution_count": null,
   "source": [
    "import numpy as np\n",
    "import matplotlib.pyplot as plt\n",
    "x=np.arange(0,10)\n",
    "Y1=np.ones(10)\n",
    "Y2=x\n",
    "Y3=x**2\n",
    "\n",
    "plt.plot(x,Y1, x,Y2, x,Y3)\n",
    "plt.show()"
   ],
   "outputs": [],
   "metadata": {}
  }
 ]
}