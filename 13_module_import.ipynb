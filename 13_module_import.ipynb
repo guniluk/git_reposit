{
 "cells": [
  {
   "cell_type": "markdown",
   "source": [
    "### <u>모듈 import</u>\n",
    "```python\n",
    "    import 모듈명\n",
    "    from 모듈 import * #(모듈명메소도가 아닌 메소드 바로 사용 가능)\n",
    "    import 모듈 as 별명\n",
    "```\n",
    "- 프로그램에서 필요한 외부 라이브러리, 다양한 기능들이 미리 함수로 구현되어 모듈형태로 제공\n",
    "  (pip install --upgrade 모듈명)\n",
    "1. requests - HTTP 요청/응답 모듈\n",
    "2. numpy - 수치해석 모듈\n",
    "3. pandas - 데이터 분석 모듈"
   ],
   "metadata": {}
  },
  {
   "cell_type": "code",
   "execution_count": null,
   "source": [
    "import requests\n",
    "resp=requests.get('http://naver.com')\n",
    "resp.text"
   ],
   "outputs": [],
   "metadata": {}
  },
  {
   "cell_type": "code",
   "execution_count": null,
   "source": [
    "import math\n",
    "print(math.pi)  \n",
    "print(math.cos(math.pi*30/180))\n",
    "\n",
    "from math import pi\n",
    "print(pi)\n",
    "\n",
    "from math import * #다른 모듈과 같은 이름 함수들이 있을 수 있으므로 최대한 지양\n",
    "print(sin(math.pi*30/180))\n",
    "print(e)\n",
    "\n",
    "import math as m  #math 대신 별명 m 사용\n",
    "print(m.exp(1))"
   ],
   "outputs": [],
   "metadata": {}
  },
  {
   "cell_type": "code",
   "execution_count": null,
   "source": [
    "import math\n",
    "print(math.sin(math.radians(30)))"
   ],
   "outputs": [],
   "metadata": {}
  },
  {
   "cell_type": "code",
   "execution_count": null,
   "source": [
    "import module_test    #내가 만든 모듈 가져오기\n",
    "print(module_test.fibo2(10))\n",
    "print(module_test.fibo(10))"
   ],
   "outputs": [],
   "metadata": {}
  },
  {
   "cell_type": "code",
   "execution_count": null,
   "source": [
    "import module_test as my_module   #내가 만든 모듈 가져오기\n",
    "print(my_module.fibo2(10))\n",
    "print(my_module.fibo(10))"
   ],
   "outputs": [],
   "metadata": {}
  },
  {
   "cell_type": "code",
   "execution_count": null,
   "source": [
    "import copy  #유용한 외부 모듈\n",
    "a=[\"abc\", \"def\", \"efg\"]\n",
    "clones= copy.deepcopy(a)\n",
    "clones[0]=\"hij\"\n",
    "print(a)\n",
    "print(clones)"
   ],
   "outputs": [],
   "metadata": {}
  },
  {
   "cell_type": "code",
   "execution_count": null,
   "source": [
    "import random #유용한 외부 모듈\n",
    "mylist = [\"apple\", \"juice\", \"banana\", \"tomato\"]\n",
    "print(random.randint(1,10)) #1~10중 하나 랜덤 생성\n",
    "print(random.random()) #0~1 사이 난수 생성\n",
    "print(random.choice(mylist)) # mylisy에서 하나 초이스\n",
    "random.shuffle(mylist)  #리스트의 항목을 임의로 섞는다\n",
    "print(mylist)\n",
    "random.randrange(1,101,10) #시작(1)에서 스템(10)만큼 중가한 숫자들 중 하나 랜덤 생성"
   ],
   "outputs": [],
   "metadata": {}
  },
  {
   "cell_type": "code",
   "execution_count": null,
   "source": [
    "import sys  #외부의 유용한 모듈\n",
    "print(sys.prefix) #파이썬이 설치된 경로\n",
    "print(sys.executable) # 실행화일\n",
    "print(sys.path) # 실행화일\n",
    "print(sys.version) # 실행화일"
   ],
   "outputs": [],
   "metadata": {}
  },
  {
   "cell_type": "code",
   "execution_count": null,
   "source": [
    "import time #외부의 유용한 모듈\n",
    "# print(time.time())\n",
    "# print(time.asctime())\n",
    "\n",
    "for i in range(10, 0, -1):\n",
    "    print(i, end = ' ')\n",
    "    time.sleep(1)\n",
    "print(\"Shoot!!!\")"
   ],
   "outputs": [],
   "metadata": {}
  },
  {
   "cell_type": "code",
   "execution_count": null,
   "source": [
    "import calendar #외부의 유용한 모듈\n",
    "cal = calendar.month(2021, 7)\n",
    "print(cal)"
   ],
   "outputs": [],
   "metadata": {}
  },
  {
   "cell_type": "code",
   "execution_count": null,
   "source": [
    "import inspect\n",
    "import random\n",
    "print(inspect.getfile(random))  #모듈의 위치를 파악\n"
   ],
   "outputs": [],
   "metadata": {}
  },
  {
   "cell_type": "code",
   "execution_count": null,
   "source": [
    "import glob\n",
    "print(glob.glob(\"*.py\"))"
   ],
   "outputs": [],
   "metadata": {}
  },
  {
   "cell_type": "code",
   "execution_count": null,
   "source": [
    "import os\n",
    "print(os.getcwd()) #present current working directory\n",
    "# print(os.listdir())"
   ],
   "outputs": [],
   "metadata": {}
  },
  {
   "cell_type": "code",
   "execution_count": null,
   "source": [
    "import time\n",
    "print(time.localtime())\n",
    "print(time.strftime(\"%Y-%m-%d %H:%M:%S\"))"
   ],
   "outputs": [],
   "metadata": {}
  },
  {
   "cell_type": "code",
   "execution_count": 15,
   "source": [
    "import datetime\n",
    "today = datetime.date.today()\n",
    "print(\"Today is\", today)\n",
    "td = datetime.timedelta(days=100)\n",
    "print(\"The date after 100 days we meet: \", today+td)\n"
   ],
   "outputs": [
    {
     "output_type": "stream",
     "name": "stdout",
     "text": [
      "Today is 2021-07-25\n",
      "The day after 100 days we meet:  2021-11-02\n"
     ]
    }
   ],
   "metadata": {}
  }
 ],
 "metadata": {
  "kernelspec": {
   "name": "python3",
   "display_name": "Python 3.9.6 64-bit ('3.9')"
  },
  "language_info": {
   "codemirror_mode": {
    "name": "ipython",
    "version": 3
   },
   "file_extension": ".py",
   "mimetype": "text/x-python",
   "name": "python",
   "nbconvert_exporter": "python",
   "pygments_lexer": "ipython3",
   "version": "3.9.6"
  },
  "interpreter": {
   "hash": "7812ea015bdcee6f23a998adcdd2ef97c151c0c241b7b7070987d9313e41299d"
  }
 },
 "nbformat": 4,
 "nbformat_minor": 4
}