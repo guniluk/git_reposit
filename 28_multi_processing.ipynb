{
 "cells": [
  {
   "cell_type": "code",
   "execution_count": null,
   "source": [
    "# Test Python by BYH\n",
    "import time\n",
    "from multiprocessing import Process, cpu_count\n",
    "\n",
    "def count(num):\n",
    "    count = 0\n",
    "    while count < num:\n",
    "        count += 1\n",
    "\n",
    "def main():\n",
    "    print(cpu_count())\n",
    "    a = Process(target=count, args=(10000000,))  # child process\n",
    "    b = Process(target=count, args=(10000000,))  # child process\n",
    "    c = Process(target=count, args=(10000000,))  # child process\n",
    "    d = Process(target=count, args=(10000000,))  # child process\n",
    "    a.start()\n",
    "    b.start()\n",
    "    c.start()\n",
    "    d.start()\n",
    "    \n",
    "    a.join()  #메인 프로세스가 child process가 끝날때까지 기다림\n",
    "    b.join()  #메인 프로세스가 child process가 끝날때까지 기다림\n",
    "    c.join()  #메인 프로세스가 child process가 끝날때까지 기다림\n",
    "    d.join()  #메인 프로세스가 child process가 끝날때까지 기다림\n",
    "    \n",
    "    print(\"finished in : \", time.perf_counter(), \"seconds\")\n",
    "\n",
    "if __name__ == '__main__':   #main process\n",
    "    main()\n"
   ],
   "outputs": [],
   "metadata": {}
  }
 ],
 "metadata": {
  "orig_nbformat": 4,
  "language_info": {
   "name": "python",
   "version": "3.9.6",
   "mimetype": "text/x-python",
   "codemirror_mode": {
    "name": "ipython",
    "version": 3
   },
   "pygments_lexer": "ipython3",
   "nbconvert_exporter": "python",
   "file_extension": ".py"
  },
  "kernelspec": {
   "name": "python3",
   "display_name": "Python 3.9.6 64-bit"
  },
  "interpreter": {
   "hash": "7812ea015bdcee6f23a998adcdd2ef97c151c0c241b7b7070987d9313e41299d"
  }
 },
 "nbformat": 4,
 "nbformat_minor": 2
}