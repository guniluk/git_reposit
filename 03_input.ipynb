{
 "cells": [
  {
   "cell_type": "markdown",
   "source": [
    "### <u>input()</u>\n",
    " ```python\n",
    " 변수 = input(안내 메세지) \n",
    " ```"
   ],
   "metadata": {}
  },
  {
   "cell_type": "code",
   "execution_count": null,
   "source": [
    "name = input(\"이름을 입력하시오: \")\n",
    "print(name)\n",
    "num = input(\"숫자을 입력하시오: \")\n",
    "print(num, end= \"!\")\n",
    "type(num)"
   ],
   "outputs": [],
   "metadata": {}
  },
  {
   "cell_type": "code",
   "execution_count": null,
   "source": [
    "num1=input(\"첫번째 숫자 입력: \")\n",
    "num2=input(\"두번째 숫자 입력: \")\n",
    "sum=int(num1)+int(num2)\n",
    "print(\"두 숫자의 합은\", sum)"
   ],
   "outputs": [],
   "metadata": {}
  },
  {
   "cell_type": "code",
   "execution_count": null,
   "source": [
    "pyeong=3.3\n",
    "area_m2=eval(input(\"면적(제곱미터): \"))\n",
    "py=area_m2/pyeong\n",
    "print(py, \"평\")\n"
   ],
   "outputs": [],
   "metadata": {}
  },
  {
   "cell_type": "code",
   "execution_count": 2,
   "source": [
    "age=int(input(\"Enter your age:\"))\n",
    "print(\"Your age is \", age, \".\")"
   ],
   "outputs": [
    {
     "output_type": "stream",
     "name": "stdout",
     "text": [
      "Your age is  40 .\n"
     ]
    }
   ],
   "metadata": {}
  }
 ],
 "metadata": {
  "kernelspec": {
   "name": "python3",
   "display_name": "Python 3.9.6 64-bit ('3.9')"
  },
  "language_info": {
   "codemirror_mode": {
    "name": "ipython",
    "version": 3
   },
   "file_extension": ".py",
   "mimetype": "text/x-python",
   "name": "python",
   "nbconvert_exporter": "python",
   "pygments_lexer": "ipython3",
   "version": "3.9.6"
  },
  "interpreter": {
   "hash": "7812ea015bdcee6f23a998adcdd2ef97c151c0c241b7b7070987d9313e41299d"
  }
 },
 "nbformat": 4,
 "nbformat_minor": 4
}