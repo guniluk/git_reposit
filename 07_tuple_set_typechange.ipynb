{
 "cells": [
  {
   "cell_type": "markdown",
   "source": [
    "### <u>튜플</u>\n",
    "```python\n",
    "    튜플이름 = ( 항목1, 항목2, )\n",
    "```\n",
    "- 내용 변경이나 추가 안됨. 대신 속도가 list보다 빠름"
   ],
   "metadata": {}
  },
  {
   "cell_type": "code",
   "execution_count": null,
   "source": [
    "menu=(\"짜장면\", \"짬봉\") #절대 변경이 없음\n",
    "print(menu[1])\n",
    "\n",
    "(name, age, hobby) = ('백영하', 50, '바둑')\n",
    "print(name, age, hobby)\n",
    "print(name)\n"
   ],
   "outputs": [],
   "metadata": {}
  },
  {
   "cell_type": "code",
   "execution_count": null,
   "source": [
    "fruits = (\"banana\", \"apple\", \"berry\")\n",
    "fruits +=(\"peer\", \"grape\") #연산자이용 다른 튜플 추가는 가능\n",
    "print(fruits)\n",
    "# fruits[1]=\"tommato\" #추가나 변경은 안됨"
   ],
   "outputs": [],
   "metadata": {}
  },
  {
   "cell_type": "code",
   "execution_count": null,
   "source": [
    "my_tuple = ('young', 25, 'elglshi', 'hanguel', 'french', 'ulsan')\n",
    "name, age, *major, home = my_tuple\n",
    "print(name, age, home)"
   ],
   "outputs": [],
   "metadata": {}
  },
  {
   "cell_type": "code",
   "execution_count": null,
   "source": [
    "x=(\"baek\", [60,70,80])\n",
    "x[1][0]=90 # 튜틀 내 리스트요소 내 변경은 가능\n",
    "name, grades = x\n",
    "print(f'{name}의 성적은 {grades}이다.')\n"
   ],
   "outputs": [],
   "metadata": {}
  },
  {
   "cell_type": "markdown",
   "source": [
    "### <u>set(집합)</u>\n",
    "```python\n",
    "    세트이름 = {항목1, 항목2, }\n",
    "```\n",
    "- 중복과 순서 없음"
   ],
   "metadata": {}
  },
  {
   "cell_type": "code",
   "execution_count": null,
   "source": [
    "a_set={1,5,3,2,7,30,23,5,1,100}\n",
    "print(a_set)\n",
    "a_set.clear()\n",
    "print(a_set)"
   ],
   "outputs": [],
   "metadata": {}
  },
  {
   "cell_type": "code",
   "execution_count": null,
   "source": [
    "a=\"Hello world\"\n",
    "b=set(a)\n",
    "print(b)"
   ],
   "outputs": [],
   "metadata": {}
  },
  {
   "cell_type": "code",
   "execution_count": null,
   "source": [
    "java={'백영하', '백건일', '백건욱'}\n",
    "py={'이현희', '백영하', '이종갑'}\n",
    "print(java & py)\n",
    "print(java.intersection(py))\n",
    "print(java | py)\n",
    "print(java.union(py))\n",
    "print(java - py)\n",
    "print(java.difference(py))\n",
    "py.add('박말술')\n",
    "print(py)\n",
    "java.remove('백건일')\n",
    "print(java)"
   ],
   "outputs": [],
   "metadata": {}
  },
  {
   "cell_type": "markdown",
   "source": [
    "### <u>자료구조 변경</u>"
   ],
   "metadata": {}
  },
  {
   "cell_type": "code",
   "execution_count": null,
   "source": [
    "set1={'커피', '우유', '쥬스'}\n",
    "print(set1, type(set1))\n",
    "set1=list(set1)\n",
    "print(set1, type(set1))\n",
    "set1 = tuple(set1)\n",
    "print(set1, type(set1))\n"
   ],
   "outputs": [],
   "metadata": {}
  },
  {
   "cell_type": "code",
   "execution_count": null,
   "source": [],
   "outputs": [],
   "metadata": {}
  }
 ],
 "metadata": {
  "kernelspec": {
   "name": "python3",
   "display_name": "Python 3.9.6 64-bit"
  },
  "language_info": {
   "codemirror_mode": {
    "name": "ipython",
    "version": 3
   },
   "file_extension": ".py",
   "mimetype": "text/x-python",
   "name": "python",
   "nbconvert_exporter": "python",
   "pygments_lexer": "ipython3",
   "version": "3.9.6"
  },
  "interpreter": {
   "hash": "7812ea015bdcee6f23a998adcdd2ef97c151c0c241b7b7070987d9313e41299d"
  }
 },
 "nbformat": 4,
 "nbformat_minor": 4
}