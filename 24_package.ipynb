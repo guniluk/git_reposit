{
 "cells": [
  {
   "cell_type": "markdown",
   "source": [
    "## <u> package </u>\n",
    "```python\n",
    "    import 디렉토리.모듈명\n",
    "```\n",
    "- 모듈들을 모아놓은 집합(package > module > function). 하나의 디렉토리에 여러 모듈 화일을 저장\n",
    "1. 디랙토리 생성\n",
    "2. 디렉토리(패키지) 내 모듈화일들 생성(.py), \n",
    "3. init화일 생성(__init__.py)\n",
    "    __all__ = [\"공개할 모둘명\", ]\n"
   ],
   "metadata": {}
  },
  {
   "cell_type": "code",
   "execution_count": null,
   "source": [
    "import travel_package.thailand #패키지,모듈만 import가능. 클래스, 함수는 import 안됨\n",
    "trip_to = travel_package.thailand.ThailandPackage() #객체 생성\n",
    "trip_to.detail()"
   ],
   "outputs": [],
   "metadata": {}
  },
  {
   "cell_type": "code",
   "execution_count": null,
   "source": [
    "from travel_package.thailand import ThailandPackage  #클래스/모듈/패키지 import가능\n",
    "trip_to = ThailandPackage() #객체생성\n",
    "trip_to.detail()"
   ],
   "outputs": [],
   "metadata": {}
  },
  {
   "cell_type": "code",
   "execution_count": null,
   "source": [
    "from travel_package import vietnam\n",
    "trip_to = vietnam.VietnamPackage()  # 객체생성\n",
    "trip_to.detail()"
   ],
   "outputs": [],
   "metadata": {}
  },
  {
   "cell_type": "code",
   "execution_count": null,
   "source": [
    "from travel_package import *\n",
    "trip_to = vietnam.VietnamPackage()  # 객체생성\n",
    "print(trip_to.detail())\n",
    "trip_to2 = thailand.ThailandPackage() #객체생성\n",
    "print(trip_to2.detail())"
   ],
   "outputs": [],
   "metadata": {}
  }
 ],
 "metadata": {
  "orig_nbformat": 4,
  "language_info": {
   "name": "python",
   "version": "3.9.6",
   "mimetype": "text/x-python",
   "codemirror_mode": {
    "name": "ipython",
    "version": 3
   },
   "pygments_lexer": "ipython3",
   "nbconvert_exporter": "python",
   "file_extension": ".py"
  },
  "kernelspec": {
   "name": "python3",
   "display_name": "Python 3.9.6 64-bit ('3.9')"
  },
  "interpreter": {
   "hash": "7812ea015bdcee6f23a998adcdd2ef97c151c0c241b7b7070987d9313e41299d"
  }
 },
 "nbformat": 4,
 "nbformat_minor": 2
}