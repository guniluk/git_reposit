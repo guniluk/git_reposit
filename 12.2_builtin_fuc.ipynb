{
 "cells": [
  {
   "cell_type": "markdown",
   "source": [
    "## Python builtin Function\n",
    "### By BYH "
   ],
   "metadata": {}
  },
  {
   "cell_type": "code",
   "execution_count": null,
   "source": [
    "dir(__builtins__)"
   ],
   "outputs": [],
   "metadata": {}
  },
  {
   "cell_type": "code",
   "execution_count": null,
   "source": [
    "a = [10,20,30]\n",
    "for i, j in enumerate(a, 1):\n",
    "    print(i, j)"
   ],
   "outputs": [],
   "metadata": {}
  },
  {
   "cell_type": "code",
   "execution_count": null,
   "source": [
    "a = '3+10'\n",
    "b = eval(a)\n",
    "print(b)\n",
    "type(b)"
   ],
   "outputs": [],
   "metadata": {}
  },
  {
   "cell_type": "code",
   "execution_count": null,
   "source": [
    "help(abs)\n",
    "print(abs(-1000))"
   ],
   "outputs": [],
   "metadata": {}
  },
  {
   "cell_type": "code",
   "execution_count": null,
   "source": [
    "print(bin(10))\n",
    "print(oct(10))\n",
    "print(hex(10))"
   ],
   "outputs": [],
   "metadata": {}
  },
  {
   "cell_type": "code",
   "execution_count": null,
   "source": [
    "for i in range(65, 91):\n",
    "    print(chr(i), end = ' ')\n",
    "print()\n",
    "for i in range(97, 123):\n",
    "    print(chr(i), end = ' ')\n",
    "print()\n",
    "for i in ['A', 'B', 'C', 'D', 'E']:\n",
    "    print(ord(i), end = ' ')"
   ],
   "outputs": [],
   "metadata": {}
  },
  {
   "cell_type": "code",
   "execution_count": null,
   "source": [
    "a = [ 1, 10, 5, 40, -10, 55, 100]\n",
    "print(min(a))\n",
    "print(max(a))\n",
    "print(sum(a))"
   ],
   "outputs": [],
   "metadata": {}
  },
  {
   "cell_type": "code",
   "execution_count": null,
   "source": [
    "a = [i for i in range(5, 101, 5)]\n",
    "print(a)"
   ],
   "outputs": [],
   "metadata": {}
  },
  {
   "cell_type": "code",
   "execution_count": null,
   "source": [
    "a = [1,5,2,10,7]\n",
    "print(sorted(a))\n",
    "print(a)"
   ],
   "outputs": [],
   "metadata": {}
  },
  {
   "cell_type": "code",
   "execution_count": null,
   "source": [
    "b= 2.43\n",
    "print(pow(2,5))\n",
    "print(round(b))\n",
    "print(round(2.74))"
   ],
   "outputs": [],
   "metadata": {}
  }
 ],
 "metadata": {
  "orig_nbformat": 4,
  "language_info": {
   "name": "python",
   "version": "3.9.6",
   "mimetype": "text/x-python",
   "codemirror_mode": {
    "name": "ipython",
    "version": 3
   },
   "pygments_lexer": "ipython3",
   "nbconvert_exporter": "python",
   "file_extension": ".py"
  },
  "kernelspec": {
   "name": "python3",
   "display_name": "Python 3.9.6 64-bit"
  },
  "interpreter": {
   "hash": "7812ea015bdcee6f23a998adcdd2ef97c151c0c241b7b7070987d9313e41299d"
  }
 },
 "nbformat": 4,
 "nbformat_minor": 2
}