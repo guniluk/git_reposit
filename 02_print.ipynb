{
 "cells": [
  {
   "cell_type": "markdown",
   "source": [
    "## <u>프린트 함수</u> "
   ],
   "metadata": {}
  },
  {
   "cell_type": "code",
   "execution_count": null,
   "source": [
    "print('''Hello \n",
    "world''')\n",
    "print(\"\"\"Hellow \n",
    "world\"\"\")\n",
    "print('Hellow world\\n\\n')\n",
    "print('Hello\\t\\tworld')\n",
    "print('Mary\\'s books')\n",
    "print(\"Mary's books\")\n",
    "print('Mary\\'s books')\n",
    "print(\"Mary's books\")\n",
    "print('c:\\\\windows\\\\baek')\n",
    "\n",
    "a=10\n",
    "b=11.4\n",
    "print(a,100, 400, b)\n",
    "print(a,100,400,b,sep='*', end='!!')"
   ],
   "outputs": [],
   "metadata": {}
  },
  {
   "cell_type": "code",
   "execution_count": null,
   "source": [
    "print(not(3!=5))\n",
    "print(3>5 and 5>1)\n",
    "print(3>5 or 5>1)\n",
    "\n",
    "aaa=100\n",
    "print('나의 나이는', aaa, '살 입니다.')\n",
    "print('나의 나이는 '+ str(aaa) + '살 입니다.')"
   ],
   "outputs": [],
   "metadata": {}
  },
  {
   "cell_type": "code",
   "execution_count": null,
   "source": [
    "print(abs(-100))  #절대값\n",
    "print(pow(5,3))  #3의 3승\n",
    "print(max(1,5,100,-20,66, 450)) #최대값\n",
    "print(min(1,5,100,-20,66, 450)) # 최소값\n",
    "print(round(3.7))  #반올림"
   ],
   "outputs": [],
   "metadata": {}
  },
  {
   "cell_type": "code",
   "execution_count": null,
   "source": [
    "c='love'\n",
    "d='hate'\n",
    "e=(c, d)\n",
    "print(e[0])\n",
    "print(e[1])\n",
    "print('{0} is more importanrt than {1}.'.format(e[0],e[1]))"
   ],
   "outputs": [],
   "metadata": {}
  },
  {
   "cell_type": "code",
   "execution_count": null,
   "source": [
    "age=20\n",
    "print('나는 올해 %d살 입니다' %age)\n",
    "s1='c++'\n",
    "print('나는 %s을 공부합니다' %s1)\n",
    "s2='파란'\n",
    "s3='초록'\n",
    "print('나는 %s색과 %s색을 좋아해요' %(s2, s3))\n",
    "print('나는 {}살 입니다'.format(age))\n",
    "s4='이현희'\n",
    "print('{}는 {}살 입니다'.format(s4, age))\n",
    "num=22.3264\n",
    "print(\"num is %10.2f\" %num)"
   ],
   "outputs": [],
   "metadata": {}
  },
  {
   "cell_type": "code",
   "execution_count": null,
   "source": [
    "s4=['백영하', '이현희', '백건일', '백건욱']\n",
    "n2=[52, 51, 25, 22]\n",
    "\n",
    "i=0\n",
    "while i < len(s4) :\n",
    "    print(f'{s4[i]}는 {n2[i]}살 입니다')\n",
    "    i +=1  "
   ],
   "outputs": [],
   "metadata": {}
  },
  {
   "cell_type": "code",
   "execution_count": null,
   "source": [
    "x=100\n",
    "y=200\n",
    "print(f'{x}와 {y}의 곱은 {x*y}이다.')"
   ],
   "outputs": [],
   "metadata": {}
  },
  {
   "cell_type": "code",
   "execution_count": null,
   "source": [
    "print('{0: <10}'.format(500))\n",
    "print('{0: <+10}'.format(500))\n",
    "print('{0: >10}'.format(500))\n",
    "print('{0: >+10}'.format(500))\n",
    "print('{0:_<+10}'.format(500))\n",
    "print('{0:_>+10}'.format(500))\n",
    "print('{0:,}'.format(50000000000))\n",
    "print('{0:+,}'.format(50000000000))\n",
    "\n",
    "print('{0:^<+25,}'.format(5000000000000))\n",
    "\n",
    "print('{0:f}'.format(17/16))\n",
    "print('{0:.3f}'.format(17/16))"
   ],
   "outputs": [],
   "metadata": {}
  }
 ],
 "metadata": {
  "kernelspec": {
   "name": "python3",
   "display_name": "Python 3.9.6 64-bit ('3.9')"
  },
  "language_info": {
   "codemirror_mode": {
    "name": "ipython",
    "version": 3
   },
   "file_extension": ".py",
   "mimetype": "text/x-python",
   "name": "python",
   "nbconvert_exporter": "python",
   "pygments_lexer": "ipython3",
   "version": "3.9.6"
  },
  "interpreter": {
   "hash": "7812ea015bdcee6f23a998adcdd2ef97c151c0c241b7b7070987d9313e41299d"
  }
 },
 "nbformat": 4,
 "nbformat_minor": 4
}