{
 "cells": [
  {
   "cell_type": "markdown",
   "source": [
    "## 파이썬 프로그램 매뉴얼 By Youngha Baek \n",
    "### <u>Markdown Cell 사용법 </u> \n",
    "- (제목)글자크기 조정: 문장 앞에 \"# > ## > ### > ####\" 추가\n",
    "  - # 큰 글자  \n",
    "  - ## 중간글자   \n",
    "  - ### 작은 글자\n",
    "  - #### 더 작은 글자\n",
    "- 볼드체:  글자 앞뒤에 별표 두개씩 추가\n",
    "  - **볼드체로 보이는 모습**\n",
    "- 밑줄: 글자전에 꺽쇄u꺽쇄,  꺽쇄/u꺽쇄 삽입\n",
    "  - <u> Test </u>\n",
    "- 이탤릭체: 글자 앞뒤에 별표 하나씩 추가\n",
    "  - *이탤릭체로 글자 보이기*\n",
    "- 글머리 기호(리스트) 만들기: 문장 앞에 -(마이너스) 기호 추가\n",
    "  - 첫번째 문장\n",
    "  - 두번째 문장\n",
    "- 인용문 만들기: 문장 앞에 \">\" 추가\n",
    "   >인용문을 만드는 예시 문장입니다.\n",
    "- 함수 만들기: 문장 앞뒤로 \"달러기호\" 추가\n",
    "  -  $ y=f(x) $ \n",
    "- 코드블럭 만들기: 물결기호 3개+python, 물결기호 3개사이 코드 작성\n",
    "  ```python    \n",
    "   print(\"a\")\n",
    "   ```   \n",
    "- 인터넷 링크 인식: 꺽쇄괄호안에 이름쓰고 이어서 괄호안에 http 주소 \n",
    "  - [아나콘다 다운로드 페이지](https://www.anaconda.com/products/individual)\n",
    "## shell 명령어 수행:  !명령어 (!ls, !pwd)"
   ],
   "metadata": {}
  },
  {
   "cell_type": "markdown",
   "source": [
    "### <u>변수, 자료형, 수식</u>\n",
    "- 변수: 이름붙인 메모리공간으로 변경 가능 값 저장\n",
    "  변수는 숫자로 시작 못함, 예약어 못씀(알파벳 대소문자, _는 모두 가능)\n",
    "- 자료형(데이터 종류): 종류알려면 type(수식)\n",
    "  - 숫자: 정수(int), 부동소수(float), 복소수(complex, 2+3j) \n",
    "  - 시퀀스: 문자열(str, \" \"), 튜플(), 리스트([]), 딕셔너리({})\n",
    "  - 부울형: True, False\n",
    "- 메모리 주소: id(변수)\n",
    "- 수식: //(정수 몫), %(나머지), **(지수, power)\n",
    "- 타입변환: int(x), float(x), 반올림 round(x)"
   ],
   "metadata": {}
  },
  {
   "cell_type": "code",
   "execution_count": null,
   "source": [
    "\n",
    "a = 10   # 정수형 변수\n",
    "b = 15.7 # float형 변수\n",
    "print(a+b) # float형 변수\n",
    "a -= 3  # a=a-3\n",
    "print(a)\n",
    "a *= 3\n",
    "print(a)\n",
    "\n",
    "l = 'hello world. this is first program'  #a는 문자열 변수\n",
    "print(l)\n",
    "m = '''\n",
    "hello world. \n",
    "this is \n",
    "second program'''\n",
    "print(m)\n",
    "\n",
    "c=[1,2,7,10,6,8]  #c는 리스트\n",
    "print(type(c))\n",
    "c.append(100)  # c에 리스트 추가\n",
    "c.pop(1) # 2번째 삭제\n",
    "print(c)\n",
    "\n",
    "d=None # 변수를 초기화 한다\n",
    "print(d)\n",
    "\n",
    "e=10\n",
    "f=20\n",
    "print(e>=f) # bool type변수\n",
    "print(e<=f) # bool type변수\n",
    "print(e==f) # bool type변수\n",
    "print(e!=f) # bool type변수"
   ],
   "outputs": [],
   "metadata": {}
  },
  {
   "cell_type": "code",
   "execution_count": 1,
   "source": [
    "#global variables\n",
    "global_variable = 100\n",
    "def myfunc():\n",
    "    global global_variable\n",
    "    global_variable = 200\n",
    "    print(global_variable)\n",
    "\n",
    "myfunc()\n",
    "print(global_variable)"
   ],
   "outputs": [
    {
     "output_type": "stream",
     "name": "stdout",
     "text": [
      "200\n",
      "200\n"
     ]
    }
   ],
   "metadata": {}
  },
  {
   "cell_type": "code",
   "execution_count": null,
   "source": [
    "\n"
   ],
   "outputs": [],
   "metadata": {}
  }
 ],
 "metadata": {
  "kernelspec": {
   "name": "python3",
   "display_name": "Python 3.9.6 64-bit"
  },
  "language_info": {
   "codemirror_mode": {
    "name": "ipython",
    "version": 3
   },
   "file_extension": ".py",
   "mimetype": "text/x-python",
   "name": "python",
   "nbconvert_exporter": "python",
   "pygments_lexer": "ipython3",
   "version": "3.9.6"
  },
  "interpreter": {
   "hash": "7812ea015bdcee6f23a998adcdd2ef97c151c0c241b7b7070987d9313e41299d"
  }
 },
 "nbformat": 4,
 "nbformat_minor": 4
}