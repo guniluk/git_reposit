{
 "metadata": {
  "language_info": {
   "codemirror_mode": {
    "name": "ipython",
    "version": 3
   },
   "file_extension": ".py",
   "mimetype": "text/x-python",
   "name": "python",
   "nbconvert_exporter": "python",
   "pygments_lexer": "ipython3",
   "version": "3.9.6"
  },
  "orig_nbformat": 4,
  "kernelspec": {
   "name": "python3",
   "display_name": "Python 3.9.6 64-bit ('3.9')"
  },
  "interpreter": {
   "hash": "7812ea015bdcee6f23a998adcdd2ef97c151c0c241b7b7070987d9313e41299d"
  }
 },
 "nbformat": 4,
 "nbformat_minor": 2,
 "cells": [
  {
   "cell_type": "markdown",
   "source": [
    "### <u> pandas </u>\n",
    "```python\n",
    "    import pandas as pd\n",
    "    import numpy as np (필요시)\n",
    "    import matplotlib.pyplot as plt (필요시)\n",
    "    ~~\n",
    "    plt.plot(~)  (필요시)\n",
    "    plt.show()  (필요시)\n",
    "```"
   ],
   "metadata": {}
  },
  {
   "cell_type": "code",
   "execution_count": null,
   "source": [
    "import pandas as pd\n",
    "study= pd.read_csv(\"/users/guniluk/desktop/pg/data/data1.csv\", index_col=0)\n",
    "print(study)\n",
    "study[\"영어\"]=study[\"국어\"]+30 - study[\"수학\"] #열 추가하기\n",
    "print(study)\n",
    "print(study[\"평점\"].mean())\n",
    "print(study.tail(2))"
   ],
   "outputs": [],
   "metadata": {}
  },
  {
   "cell_type": "code",
   "execution_count": null,
   "source": [
    "import pandas as pd\n",
    "study= pd.read_csv(\"/users/guniluk/desktop/pg/data/data1.csv\", index_col=0)\n",
    "print(study)\n",
    "print(study[\"평점\"].mean())\n",
    "print(study.loc[study[\"평점\"] < 4.0, \"이름\"])\n",
    "print(study.sort_values(by='나이').head())"
   ],
   "outputs": [],
   "metadata": {}
  },
  {
   "cell_type": "code",
   "execution_count": null,
   "source": [
    "import pandas as pd\n",
    "study= pd.read_csv(\"/users/guniluk/desktop/pg/data/data1.csv\", index_col=0)\n",
    "print(study)\n",
    "print(study.dtypes)\n",
    "print(study[\"이름\"])\n",
    "print(study[\"나이\"].max())\n",
    "print(study[\"나이\"].min())\n",
    "print(study.describe())"
   ],
   "outputs": [],
   "metadata": {}
  },
  {
   "cell_type": "code",
   "execution_count": null,
   "source": [
    "import pandas as pd\n",
    "data={'Name':['Kim', 'Baek', 'Park'],\n",
    "      'Age': [30, 40, 50]}\n",
    "df=pd.DataFrame(data, index=['학번1', '학번2', '학번3'])\n",
    "print(df)"
   ],
   "outputs": [],
   "metadata": {}
  },
  {
   "cell_type": "code",
   "execution_count": null,
   "source": [
    "import matplotlib.pyplot as plt\n",
    "import pandas as pd\n",
    "\n",
    "df=pd.DataFrame({\n",
    "    'name' : ['kim', 'baek', 'lee'],\n",
    "    'age'  : [20, 40, 33],\n",
    "    'city'  : ['seoul', 'daegu', 'busan'],\n",
    "    'children' : [0, 2, 1],\n",
    "    'pet' : [ 0, 1, 1]\n",
    "})\n",
    "ax=plt.gca()\n",
    "df.plot(kind='line', x='name', y='age', color='red', ax=ax)\n",
    "df.plot(kind='line', x='name', y='pet', color='blue', ax=ax)\n",
    "plt.show()"
   ],
   "outputs": [],
   "metadata": {}
  }
 ]
}