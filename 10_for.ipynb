{
 "cells": [
  {
   "cell_type": "markdown",
   "source": [
    "### <u>for문</u>\n",
    "- format\n",
    "```python\n",
    "    for i in range():\n",
    "        ~~~\n",
    "```"
   ],
   "metadata": {}
  },
  {
   "cell_type": "code",
   "execution_count": null,
   "source": [
    "a=[1,2,3,4,5]\n",
    "for i in a:\n",
    "    print(i, i**2)"
   ],
   "outputs": [],
   "metadata": {}
  },
  {
   "cell_type": "code",
   "execution_count": null,
   "source": [
    "a='hello world'\n",
    "for char in a:\n",
    "    print(char, end=\"*\")"
   ],
   "outputs": [],
   "metadata": {}
  },
  {
   "cell_type": "code",
   "execution_count": null,
   "source": [
    "for waiting_no in list(range(1,10,1)):\n",
    "    print(\"waiting No : {}\".format(waiting_no))"
   ],
   "outputs": [],
   "metadata": {}
  },
  {
   "cell_type": "code",
   "execution_count": null,
   "source": [
    "starbucks = ['ironman', 'chulsu', 'youngha']\n",
    "for customer in starbucks:\n",
    "    print('{}, coffee is ready'.format(customer))\n"
   ],
   "outputs": [],
   "metadata": {}
  },
  {
   "cell_type": "code",
   "execution_count": null,
   "source": [
    "a={'korea' : 'seoul','japan': 'tyoko', 'china': 'beijing' } #dictionary\n",
    "for k in a:\n",
    "    print(k, a[k])\n",
    "print('[End]')\n",
    "\n",
    "print(a.items())\n",
    "\n",
    "for i, j in a.items():\n",
    "    print(i, j)\n",
    "print('[End]')"
   ],
   "outputs": [],
   "metadata": {}
  },
  {
   "cell_type": "code",
   "execution_count": null,
   "source": [
    "a=[1,2,3,4,5]  \n",
    "for i, j in enumerate(a):   #index 필요 시\n",
    "    if i > 2:\n",
    "        print(i, j)\n",
    "print('-----\\nEnd')"
   ],
   "outputs": [],
   "metadata": {}
  },
  {
   "cell_type": "code",
   "execution_count": null,
   "source": [
    "a=[1,2, 3,4,5,6,7,8,9]  #구구단 \n",
    "for i in a:\n",
    "    for j in a:\n",
    "        print(i,'x',j,'=',i*j)\n",
    "print('-----\\nEnd')"
   ],
   "outputs": [],
   "metadata": {}
  },
  {
   "cell_type": "markdown",
   "source": [
    "### continue, break\n"
   ],
   "metadata": {}
  },
  {
   "cell_type": "code",
   "execution_count": null,
   "source": [
    "a=[1,20,33,46,57, 60,20]  \n",
    "for i in a:\n",
    "    if i > 40 :\n",
    "        break\n",
    "    print(i)\n",
    "print('-----\\nEnd')"
   ],
   "outputs": [],
   "metadata": {}
  },
  {
   "cell_type": "code",
   "execution_count": null,
   "source": [
    "a=[1,20,33,46,57, 60,20]  \n",
    "for i in a:\n",
    "    if i > 40 :\n",
    "        continue\n",
    "    print(i)\n",
    "print('-----\\nEnd')"
   ],
   "outputs": [],
   "metadata": {}
  },
  {
   "cell_type": "code",
   "execution_count": null,
   "source": [],
   "outputs": [],
   "metadata": {}
  },
  {
   "cell_type": "code",
   "execution_count": null,
   "source": [
    "absent = [2, 5]\n",
    "no_book= [8]\n",
    "for student in range(1,11):\n",
    "    if student in absent:\n",
    "        continue\n",
    "    elif student in no_book :\n",
    "        print('class is over, follow me, {0}'.format(student))\n",
    "        break\n",
    "    print('{0}, read the book'.format(student))\n",
    "\n",
    "    "
   ],
   "outputs": [],
   "metadata": {}
  },
  {
   "cell_type": "markdown",
   "source": [
    "### 한줄 for 문"
   ],
   "metadata": {}
  },
  {
   "cell_type": "code",
   "execution_count": null,
   "source": [
    "num = [1,2,3,4,5]\n",
    "print(num)\n",
    "num = [i+100 for i in num]\n",
    "print(num)"
   ],
   "outputs": [],
   "metadata": {}
  }
 ],
 "metadata": {
  "kernelspec": {
   "name": "python3",
   "display_name": "Python 3.9.6 64-bit ('3.9')"
  },
  "language_info": {
   "codemirror_mode": {
    "name": "ipython",
    "version": 3
   },
   "file_extension": ".py",
   "mimetype": "text/x-python",
   "name": "python",
   "nbconvert_exporter": "python",
   "pygments_lexer": "ipython3",
   "version": "3.9.6"
  },
  "interpreter": {
   "hash": "7812ea015bdcee6f23a998adcdd2ef97c151c0c241b7b7070987d9313e41299d"
  }
 },
 "nbformat": 4,
 "nbformat_minor": 4
}