{
 "metadata": {
  "language_info": {
   "codemirror_mode": {
    "name": "ipython",
    "version": 3
   },
   "file_extension": ".py",
   "mimetype": "text/x-python",
   "name": "python",
   "nbconvert_exporter": "python",
   "pygments_lexer": "ipython3",
   "version": "3.9.6"
  },
  "orig_nbformat": 4,
  "kernelspec": {
   "name": "python3",
   "display_name": "Python 3.9.6 64-bit ('3.9')"
  },
  "interpreter": {
   "hash": "7812ea015bdcee6f23a998adcdd2ef97c151c0c241b7b7070987d9313e41299d"
  }
 },
 "nbformat": 4,
 "nbformat_minor": 2,
 "cells": [
  {
   "cell_type": "markdown",
   "source": [
    "### <u> tensorflow(기계학습) </u>\n",
    "```python\n",
    "    import tensorflow as tf\n",
    "    from sklearn import linear_model (선형회귀 시)\n",
    "    import numpy as np (필요시)\n",
    "    import matplotlib.pyplot as plt (필요시)\n",
    "    ~~\n",
    "    plt.plot(~)  (필요시)\n",
    "    plt.show()  (필요시)\n",
    "```"
   ],
   "metadata": {}
  },
  {
   "cell_type": "code",
   "execution_count": null,
   "source": [
    "import matplotlib.pylab as plt\n",
    "from sklearn import linear_model\n",
    "reg=linear_model.LinearRegression()\n",
    "\n",
    "x=[[1.0], [2.0], [3.0], [4.0], [5.0]]\n",
    "y=[1.0, 2.0, 1.6, 3.8, 2.3]\n",
    "\n",
    "reg.fit(x,y) #학습\n",
    "\n",
    "# print(reg.coef_)\n",
    "# print(reg.intercept_)\n",
    "# print(reg.score(x,y))\n",
    "\n",
    "plt.scatter(x,y, color='red')\n",
    "y_pred = reg.predict(x) #예측값 계산\n",
    "\n",
    "plt.plot(x, y_pred, color='blue', linewidth=3)\n",
    "plt.show()"
   ],
   "outputs": [],
   "metadata": {}
  },
  {
   "cell_type": "code",
   "execution_count": null,
   "source": [
    "import tensorflow as tf\n",
    "import numpy as np\n",
    "\n",
    "model = tf.keras.models.Sequential()\n",
    "model.add(tf.keras.layers.Dense(units=2, input_dim=2, activation='sigmoid'))\n",
    "model.add(tf.keras.layers.Dense(units=1, activation='sigmoid'))\n",
    "\n",
    "sgd = tf.keras.optimizers.SGD(lr=0.1)\n",
    "model.compile(loss='mean_squared_error', optimizer=sgd)\n",
    "\n",
    "x=np.array([[0,0], [0,1], [1,0], [1,1]])\n",
    "y=np.array([[0], [1], [1], [1]])\n",
    "\n",
    "model.fit(x,y, batch_size=1, epochs=100)\n",
    "print(model.predict(x))"
   ],
   "outputs": [],
   "metadata": {
    "tags": [
     "outputPrepend"
    ]
   }
  }
 ]
}