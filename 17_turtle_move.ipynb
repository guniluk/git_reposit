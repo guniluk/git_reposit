{
 "metadata": {
  "language_info": {
   "codemirror_mode": {
    "name": "ipython",
    "version": 3
   },
   "file_extension": ".py",
   "mimetype": "text/x-python",
   "name": "python",
   "nbconvert_exporter": "python",
   "pygments_lexer": "ipython3",
   "version": "3.9.6"
  },
  "orig_nbformat": 4,
  "kernelspec": {
   "name": "python3",
   "display_name": "Python 3.9.6 64-bit ('3.9')"
  },
  "interpreter": {
   "hash": "7812ea015bdcee6f23a998adcdd2ef97c151c0c241b7b7070987d9313e41299d"
  }
 },
 "nbformat": 4,
 "nbformat_minor": 2,
 "cells": [
  {
   "cell_type": "markdown",
   "source": [
    "## <u>turtle 그리기</u>\n",
    "#### Format\n",
    "```python\n",
    "    import turtle\n",
    "    t=turtle.Turtle()\n",
    "    \n",
    "    turtle.mainloop()\n",
    "    turtle.bye() \n",
    "```"
   ],
   "metadata": {}
  },
  {
   "cell_type": "code",
   "execution_count": null,
   "source": [
    "import turtle\n",
    "t=turtle.Turtle()\n",
    "colors=[\"red\", \"purple\", \"blue\", \"orange\"]\n",
    "\n",
    "turtle.bgcolor(\"black\")\n",
    "t.speed(0)\n",
    "t.width(3)\n",
    "length=10\n",
    "\n",
    "while length < 300 :\n",
    "    t.forward(length)\n",
    "    t.pencolor(colors[length%4])\n",
    "    t.right(86)\n",
    "    length += 5\n",
    "turtle.mainloop()\n",
    "turtle.bye()"
   ],
   "outputs": [],
   "metadata": {}
  },
  {
   "cell_type": "code",
   "execution_count": null,
   "source": [
    "import turtle\n",
    "t=turtle.Turtle()\n",
    "t.shape(\"turtle\")\n",
    "t.forward(100)\n",
    "t.left(120)\n",
    "t.forward(100)\n",
    "t.left(120)\n",
    "t.forward(100)\n",
    "turtle.mainloop()\n",
    "turtle.bye()"
   ],
   "outputs": [],
   "metadata": {}
  },
  {
   "cell_type": "code",
   "execution_count": null,
   "source": [
    "import turtle  #움직이는 그림 그리기\n",
    "turtle.clear()\n",
    "turtle.pencolor('blue')\n",
    "turtle.pensize(1)\n",
    "turtle.forward(100)\n",
    "turtle.right(90)\n",
    "turtle.backward(90)\n",
    "turtle.left(90)\n",
    "turtle.goto(100,100)\n",
    "turtle.up()\n",
    "turtle.home()\n",
    "turtle.down()\n",
    "turtle.pencolor('red')\n",
    "turtle.pensize(10)\n",
    "turtle.circle(100)\n",
    "turtle.circle(50,180)\n",
    "turtle.pencolor('black')\n",
    "turtle.clear()\n",
    "turtle.goto(-200,-200)\n",
    "turtle.fillcolor('red')\n",
    "turtle.begin_fill()\n",
    "turtle.forward(100)\n",
    "turtle.left(90)\n",
    "turtle.forward(100)\n",
    "turtle.left(90)\n",
    "turtle.forward(100)\n",
    "turtle.left(90)\n",
    "turtle.forward(100)\n",
    "turtle.end_fill()\n",
    "turtle.home()\n",
    "turtle.write(\"I love you.\", font=(\"Verdana\", 15, \"bold\"))\n",
    "turtle.mainloop()\n",
    "turtle.bye()"
   ],
   "outputs": [],
   "metadata": {}
  },
  {
   "cell_type": "code",
   "execution_count": null,
   "source": [
    "# 사각형 그리기\n",
    "import turtle\n",
    "t=turtle.Turtle()\n",
    "t.shape(\"turtle\")\n",
    "\n",
    "size=int(input(\"사각형의 크기는 얼마로 할까요: \"))\n",
    "\n",
    "t.forward(size)\n",
    "t.right(90)\n",
    "t.forward(size)\n",
    "t.right(90)\n",
    "t.forward(size)\n",
    "t.right(90)\n",
    "t.forward(size)\n",
    "\n",
    "turtle.mainloop()\n",
    "turtle.bye() "
   ],
   "outputs": [],
   "metadata": {}
  },
  {
   "cell_type": "code",
   "execution_count": null,
   "source": [
    "import turtle\n",
    "t=turtle.Turtle()\n",
    "t.shape(\"turtle\")\n",
    "t.width(3) #거북이 그리는 선의 두께\n",
    "t.shapesize(3,3) #거북이를 3배 확대\n",
    "\n",
    "while True:\n",
    "    command = input(\"명령을 입력하시오: (l,r,q)\")\n",
    "    if command == 'l':\n",
    "        t.left(90)\n",
    "        t.forward(100)\n",
    "    if command == 'r':\n",
    "        t.right(90)\n",
    "        t.forward(100)\n",
    "    if command == 'q':\n",
    "        break  # 무한루프를 빠져 나간다\n",
    "turtle.mainloop()\n",
    "turtle.bye() "
   ],
   "outputs": [],
   "metadata": {}
  }
 ]
}