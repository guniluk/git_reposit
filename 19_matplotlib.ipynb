{
 "metadata": {
  "language_info": {
   "codemirror_mode": {
    "name": "ipython",
    "version": 3
   },
   "file_extension": ".py",
   "mimetype": "text/x-python",
   "name": "python",
   "nbconvert_exporter": "python",
   "pygments_lexer": "ipython3",
   "version": "3.9.6"
  },
  "orig_nbformat": 4,
  "kernelspec": {
   "name": "python3",
   "display_name": "Python 3.9.6 64-bit"
  },
  "interpreter": {
   "hash": "7812ea015bdcee6f23a998adcdd2ef97c151c0c241b7b7070987d9313e41299d"
  }
 },
 "nbformat": 4,
 "nbformat_minor": 2,
 "cells": [
  {
   "cell_type": "markdown",
   "source": [
    "### <u> matplotlib </u>\n",
    "```python\n",
    "    import matplotlib.pyplot as plt\n",
    "    import numpy as np\n",
    "    plt.plot(~)\n",
    "    plt.show()\n",
    "```"
   ],
   "metadata": {}
  },
  {
   "cell_type": "code",
   "execution_count": null,
   "source": [
    "import matplotlib.pyplot as plt\n",
    "import numpy as np\n",
    "plt.plot([15.5, 14, 2.5, 6.6, 7.5])\n",
    "plt.show()"
   ],
   "outputs": [],
   "metadata": {}
  },
  {
   "cell_type": "code",
   "execution_count": null,
   "source": [
    "import matplotlib.pyplot as plt\n",
    "import numpy as np\n",
    "import math\n",
    "\n",
    "# plt.figure() \n",
    "x = np.arange(0, 4*math.pi, 0.1)\n",
    "y = np.sin(x)\n",
    "\n",
    "plt.plot(x, y)\n",
    "plt.show()"
   ],
   "outputs": [],
   "metadata": {}
  },
  {
   "cell_type": "code",
   "execution_count": null,
   "source": [
    "import numpy as np\n",
    "from random import *\n",
    "x=[i for i in range(1,8) ]\n",
    "y=[1.5, 2.2, 4.7, 3.7, 5.5, 6.2, 8]\n",
    "plt.plot(x,y)\n",
    "plt.show()"
   ],
   "outputs": [],
   "metadata": {}
  },
  {
   "cell_type": "code",
   "execution_count": null,
   "source": [
    "import numpy as np\n",
    "from random import *\n",
    "import matplotlib.pyplot as plt\n",
    "\n",
    "x=[\"Mon\", \"Tue\", \"Wed\", \"Thr\", \"Fri\", \"Sat\", \"Sun\"]\n",
    "y1=[9.5, 7.2, 5.7, 6.7, 4, 3.2, 2.2]\n",
    "y2=[1.5, 2.2, 3.7, 5.7, 6, 7.2, 8.7]\n",
    "plt.plot(x,y1, label=\"seoul\")\n",
    "plt.plot(x,y2, label=\"busan\")\n",
    "plt.xlabel(\"day\")\n",
    "plt.title(\"No of Korea Cities\")\n",
    "plt.legend(loc=\"upper left\")\n",
    "plt.ylabel(\"No\")\n",
    "plt.show()"
   ],
   "outputs": [],
   "metadata": {}
  },
  {
   "cell_type": "code",
   "execution_count": null,
   "source": [
    "import numpy as np\n",
    "from random import *\n",
    "x=[\"Mon\", \"Tue\", \"Wed\", \"Thr\", \"Fri\", \"Sat\", \"Sun\"]\n",
    "y1=[15.5, 2.2, 5.7, 3.7, 1, 4.2, 8]\n",
    "plt.bar(x,y1, label=\"seoul\")\n",
    "plt.xlabel(\"day\")\n",
    "plt.title(\"Temperature of Korea Cities\")\n",
    "plt.legend(loc=\"upper left\")\n",
    "plt.ylabel(\"temperature\")\n",
    "plt.show()"
   ],
   "outputs": [],
   "metadata": {}
  },
  {
   "cell_type": "code",
   "execution_count": null,
   "source": [
    "import numpy as np\n",
    "from random import *\n",
    "\n",
    "axis = plt.axes(projection='3d')\n",
    "Z=np.linspace(0,1,100)\n",
    "X=Z*np.sin(30*Z)\n",
    "Y=Z*np.cos(30*Z)\n",
    "axis.plot3D(X, Y, Z)\n",
    "plt.show()"
   ],
   "outputs": [],
   "metadata": {}
  },
  {
   "cell_type": "code",
   "execution_count": 9,
   "source": [
    "#######  공브로 \n",
    "import matplotlib as mpl \n",
    "import matplotlib.pyplot as plt\n",
    "import numpy as np\n",
    "import pandas as pd"
   ],
   "outputs": [],
   "metadata": {}
  },
  {
   "cell_type": "code",
   "execution_count": null,
   "source": [
    "fig = plt.figure()\n",
    "ax = plt.axes()\n",
    "plt.plot([0,0.2,0.4,0.6,0.8,1]*5)\n"
   ],
   "outputs": [],
   "metadata": {}
  },
  {
   "cell_type": "code",
   "execution_count": null,
   "source": [
    "import matplotlib.pyplot as plt\n",
    "import numpy as np\n",
    "x = np.arange(-10,10,0.01)\n",
    "plt.plot(x,np.sin(x), label=\"sin\", linestyle='-.', color = 'r')\n",
    "plt.plot(x,np.cos(x), label=\"cos\", linestyle=':', color = (0, 0.2, 0.2))\n",
    "plt.xlabel('time')\n",
    "plt.ylabel('prob')\n",
    "plt.title(\"BTH Graphic\")\n",
    "plt.legend(loc= \"upper left\")\n",
    "plt.show()"
   ],
   "outputs": [],
   "metadata": {}
  }
 ]
}