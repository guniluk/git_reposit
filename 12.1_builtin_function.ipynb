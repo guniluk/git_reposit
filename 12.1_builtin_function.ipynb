{
 "cells": [
  {
   "cell_type": "code",
   "execution_count": null,
   "source": [
    "i = -20\n",
    "print(abs(i))"
   ],
   "outputs": [],
   "metadata": {}
  },
  {
   "cell_type": "code",
   "execution_count": null,
   "source": [
    "mylist = [3,4,6,0]\n",
    "print(all(mylist)) # 모든 항목이 참이면 true, 하나라도 0이면 false\n",
    "mydic = {'tom' : 3, 'peter': 0, '0': 3}\n",
    "print(all(mydic)) # 모든 항목이 참이면 true, 하나라도 0이면 false\n",
    "mylist = [3,4,6,0]\n",
    "print(any(mylist)) # 하나라도 참이면 true "
   ],
   "outputs": [],
   "metadata": {}
  },
  {
   "cell_type": "code",
   "execution_count": null,
   "source": [
    "y=bin(100) #정수의 이진 표현\n",
    "print(y)"
   ],
   "outputs": [],
   "metadata": {}
  },
  {
   "cell_type": "code",
   "execution_count": null,
   "source": [
    "a= input(\"숫자 계산식을 입력하시오: \")\n",
    "print(eval(a)) #문자열 내 수식분석, 결과값을 숫자로\n",
    "type(eval(a))"
   ],
   "outputs": [],
   "metadata": {}
  },
  {
   "cell_type": "code",
   "execution_count": null,
   "source": [
    "print(sum([3,5,2]))"
   ],
   "outputs": [],
   "metadata": {}
  },
  {
   "cell_type": "code",
   "execution_count": null,
   "source": [
    "str1 =\"hello, are you serios?\"\n",
    "print(len(str1))\n",
    "list1 = [1,2,3,4,5,6,7]\n",
    "print(len(list1))"
   ],
   "outputs": [],
   "metadata": {}
  },
  {
   "cell_type": "code",
   "execution_count": null,
   "source": [
    "str1 = \"hello, are you serios?\"\n",
    "print(tuple(str1))\n",
    "print(list(str1))"
   ],
   "outputs": [],
   "metadata": {}
  },
  {
   "cell_type": "markdown",
   "source": [
    "### <u>map 함수</u>\n",
    "```python\n",
    "    리스트 = map(function, 원래 list)\n",
    "```\n",
    "- 매핑하여 다른 리스스를 만듬(개수는 변동 없음)"
   ],
   "metadata": {}
  },
  {
   "cell_type": "code",
   "execution_count": null,
   "source": [
    "list2=[1,2,3,4]\n",
    "def square(n):\n",
    "    return n*n\n",
    "list(map(square, list2)) #반복 가능한 객체 각 항목에 주어진 함수 적용\n"
   ],
   "outputs": [],
   "metadata": {}
  },
  {
   "cell_type": "code",
   "execution_count": null,
   "source": [
    "#주어진 리스트의 제곱을 한 숫자로 새로운 리스트 생성\n",
    "str1=[1,3,5,7,11,2,5,6,12,100,200,5,7,14]\n",
    "str2=list(map(lambda x : x**2, str1))\n",
    "print(str2)"
   ],
   "outputs": [],
   "metadata": {}
  },
  {
   "cell_type": "code",
   "execution_count": null,
   "source": [
    "complex(4,5)"
   ],
   "outputs": [],
   "metadata": {}
  },
  {
   "cell_type": "code",
   "execution_count": null,
   "source": [
    "name = ['홍길동', '이순이', '파로미', '호호호']\n",
    "print(list(enumerate(name, start=1)))"
   ],
   "outputs": [],
   "metadata": {}
  },
  {
   "cell_type": "markdown",
   "source": [
    "### <u>filter  함수</u>\n",
    "```python\n",
    "    리스트 = filter(function, 원 list)\n",
    "```\n",
    "- 리스트에서 특정조건으로 필터링"
   ],
   "metadata": {}
  },
  {
   "cell_type": "code",
   "execution_count": null,
   "source": [
    "aa= [1,2,3,4,5,6,7,8,9]\n",
    "def larger(n):\n",
    "    return n > 3\n",
    "list(filter(larger, aa))"
   ],
   "outputs": [],
   "metadata": {}
  },
  {
   "cell_type": "code",
   "execution_count": null,
   "source": [
    "from random import *\n",
    "def even(n):\n",
    "    return n%2==0\n",
    "\n",
    "num=list(range(1,11))\n",
    "print(num)\n",
    "#list(filter(even, num))\n",
    "list(filter(lambda x: x%2==0, num))\n"
   ],
   "outputs": [],
   "metadata": {}
  },
  {
   "cell_type": "code",
   "execution_count": null,
   "source": [
    "num = [5, 2, 3, 1, 4]\n",
    "num2 = [5, 2, 3, 1, 4]\n",
    "name = [ '홍길동', '이숙자', '또래순', '걱정이', '말끔이']\n",
    "print(list(zip(num, name)))\n",
    "print(list(zip(name, num)))\n",
    "for n1, n2 in zip(num, name):\n",
    "    print(n1, n2)\n",
    "print(\"sorted 사용: \", sorted(num))\n",
    "num2.sort()\n",
    "print(\"sort 사용: \", num2)\n"
   ],
   "outputs": [],
   "metadata": {}
  },
  {
   "cell_type": "markdown",
   "source": [
    "### <u> dir() </U>\n",
    "```python\n",
    "    dir(모듈/데이터형)  # 모듈/데이터형 내 쓸 수 있는 함수들 리스트\n",
    "```"
   ],
   "metadata": {}
  },
  {
   "cell_type": "code",
   "execution_count": null,
   "source": [
    "import random\n",
    "# print(dir(random))\n",
    "# print(dir())\n",
    "lst=[1,2,3]\n",
    "print(dir(lst))"
   ],
   "outputs": [],
   "metadata": {}
  }
 ],
 "metadata": {
  "orig_nbformat": 4,
  "language_info": {
   "name": "python",
   "version": "3.9.6",
   "mimetype": "text/x-python",
   "codemirror_mode": {
    "name": "ipython",
    "version": 3
   },
   "pygments_lexer": "ipython3",
   "nbconvert_exporter": "python",
   "file_extension": ".py"
  },
  "kernelspec": {
   "name": "python3",
   "display_name": "Python 3.9.6 64-bit ('3.9')"
  },
  "interpreter": {
   "hash": "7812ea015bdcee6f23a998adcdd2ef97c151c0c241b7b7070987d9313e41299d"
  }
 },
 "nbformat": 4,
 "nbformat_minor": 2
}