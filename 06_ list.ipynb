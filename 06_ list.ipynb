{
 "cells": [
  {
   "cell_type": "markdown",
   "source": [
    "### <u> List </u>\n",
    "```python\n",
    "    리스트명 = [아이템1, 아이템2, ...]\n",
    "    혹은 \n",
    "    리스트명 = [수식 for 변수 in 리스트) if 조건]  #리스트 함축\n",
    "```\n",
    "  - 다양한 유형의 데이터를 저장하는 컨테이너. 순서를 가지며 아이템 변경가능, 리스트 크기가 조절됨"
   ],
   "metadata": {}
  },
  {
   "cell_type": "code",
   "execution_count": null,
   "source": [
    "subway = [10, 20, 30, 25, 50]\n",
    "print(subway)\n",
    "print(subway[-1])\n",
    "print(subway[ :3])\n",
    "print(subway[::-1])\n",
    "del subway[-1]\n",
    "print(subway)\n",
    "subway[:]=[]\n",
    "print(subway)"
   ],
   "outputs": [],
   "metadata": {}
  },
  {
   "cell_type": "code",
   "execution_count": null,
   "source": [
    "heros1=[\"Torr\", \"Moss\", \"Fi\"]\n",
    "heros2=[\"Youngha\", \"Hyunhee\", \"Guniluk\"]\n",
    "avengers=heros1+heros2\n",
    "print(avengers)\n",
    "print(heros1*2)"
   ],
   "outputs": [],
   "metadata": {}
  },
  {
   "cell_type": "code",
   "execution_count": null,
   "source": [
    "a=[1,2,3,4,5,6,7,8]\n",
    "print(len(a))\n",
    "print(list(range(10)))   #range 0~9\n",
    "a=list(range(1,10,2)) #range 1서부터 2단계씩 10전까지\n",
    "print('a=', a)"
   ],
   "outputs": [],
   "metadata": {}
  },
  {
   "cell_type": "code",
   "execution_count": null,
   "source": [
    "squares=[x*x for x in range(10) if x%2 == 0]\n",
    "print(squares)"
   ],
   "outputs": [],
   "metadata": {}
  },
  {
   "cell_type": "code",
   "execution_count": null,
   "source": [
    "prices=[100,-100,340,-50,-333,999]\n",
    "mprices=[i if i>0 else 0 for i in prices]\n",
    "print(mprices)"
   ],
   "outputs": [],
   "metadata": {}
  },
  {
   "cell_type": "code",
   "execution_count": null,
   "source": [
    "subway = ['백영하', '이현희', '백건일', '백건욱', '이현희']\n",
    "print(subway.index('이현희'))\n",
    "subway.append('하하')\n",
    "subway.insert(1, '호호')\n",
    "print(subway)\n",
    "subway.pop()\n",
    "print(subway)\n",
    "print(subway.count('이현희'))\n",
    "subway.remove(\"이현희\")\n",
    "print(subway)"
   ],
   "outputs": [],
   "metadata": {}
  },
  {
   "cell_type": "code",
   "execution_count": null,
   "source": [
    "subway2 = [10, 20, 30, 25, 50]\n",
    "subway2.reverse()\n",
    "print(subway2)\n",
    "subway2.sort()\n",
    "print(subway2)\n",
    "subway2.reverse()\n",
    "print(subway2)\n",
    "subway = ['백영하', '이현희', '백건일', '백건욱']\n",
    "subway2.extend(subway)\n",
    "print(subway2)\n",
    "subway2.clear()\n",
    "print(subway2)"
   ],
   "outputs": [],
   "metadata": {}
  },
  {
   "cell_type": "code",
   "execution_count": null,
   "source": [
    "from random import *\n",
    "lst=list(range(1,46,1))\n",
    "shuffle(lst)\n",
    "ch= sample(lst, 6)\n",
    "print('치킨 당첨 :', ch[0])\n",
    "print('커피 당첨 :', ch[1:])\n",
    "print('커피 당첨자는 : {}'.format(ch[1:]) )"
   ],
   "outputs": [],
   "metadata": {}
  },
  {
   "cell_type": "code",
   "execution_count": null,
   "source": [
    "num1=[5,2,1]\n",
    "num2=[3,9,3]\n",
    "print(num1 > num2)"
   ],
   "outputs": [],
   "metadata": {}
  },
  {
   "cell_type": "code",
   "execution_count": null,
   "source": [
    "import random\n",
    "subway = [10, 20, 30, 25, 50]\n",
    "print(\"print randomly: \", random.choice(subway))"
   ],
   "outputs": [],
   "metadata": {}
  },
  {
   "cell_type": "code",
   "execution_count": null,
   "source": [
    "a=[1,2,3,4,5,6,7,8,9]\n",
    "b = list(filter(lambda x: x%2==0, a))\n",
    "print(b)"
   ],
   "outputs": [],
   "metadata": {}
  },
  {
   "cell_type": "markdown",
   "source": [
    "### <u>reduce 함수</u>\n",
    "```python\n",
    "    변수 = reduce(function, list)\n",
    "```\n",
    "- list내 함수연산을 통해 최종 값 하나를 출력"
   ],
   "metadata": {}
  },
  {
   "cell_type": "code",
   "execution_count": 2,
   "source": [
    "import functools\n",
    "a=[1,2,3,4,5,6,7,8,9,10]\n",
    "functools.reduce(lambda x,y: x+y, a)"
   ],
   "outputs": [
    {
     "output_type": "execute_result",
     "data": {
      "text/plain": [
       "55"
      ]
     },
     "metadata": {},
     "execution_count": 2
    }
   ],
   "metadata": {}
  }
 ],
 "metadata": {
  "kernelspec": {
   "name": "python3",
   "display_name": "Python 3.9.6 64-bit"
  },
  "language_info": {
   "codemirror_mode": {
    "name": "ipython",
    "version": 3
   },
   "file_extension": ".py",
   "mimetype": "text/x-python",
   "name": "python",
   "nbconvert_exporter": "python",
   "pygments_lexer": "ipython3",
   "version": "3.9.6"
  },
  "interpreter": {
   "hash": "7812ea015bdcee6f23a998adcdd2ef97c151c0c241b7b7070987d9313e41299d"
  }
 },
 "nbformat": 4,
 "nbformat_minor": 4
}