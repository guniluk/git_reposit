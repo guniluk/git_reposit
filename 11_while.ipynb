{
 "cells": [
  {
   "cell_type": "markdown",
   "source": [
    "### <u>while 문</u>\n",
    "```python\n",
    "    while 조건 : \n",
    "        ~\n",
    "```\n",
    "- beware of infinite loop (click 'ctrl + C' to stop)"
   ],
   "metadata": {}
  },
  {
   "cell_type": "code",
   "execution_count": null,
   "source": [
    "a=[1,2,3,4,5,6,7,8,9,10]\n",
    "i, j = 0, 0   # index\n",
    "while i < len(a) :\n",
    "    j=j+a[i]\n",
    "    i += 1\n",
    "print(j)"
   ],
   "outputs": [],
   "metadata": {}
  },
  {
   "cell_type": "code",
   "execution_count": null,
   "source": [
    "a=[1,2,3,4,5,21,6,55,7,32]\n",
    "i=0   # index\n",
    "\n",
    "while i < len(a) :\n",
    "    if a[i] <= int(20):\n",
    "        print(a[i], end=' , ')\n",
    "    i += 1\n",
    "print('End')"
   ],
   "outputs": [],
   "metadata": {}
  },
  {
   "cell_type": "code",
   "execution_count": null,
   "source": [
    "customer = 'torr'\n",
    "index = 5\n",
    "while index >= 1 :\n",
    "    print('{0}, coffee is ready,  {1} times left'.format(customer, index))\n",
    "    index -= 1\n",
    "    if index == 0:\n",
    "        print('coffee is disposed of')"
   ],
   "outputs": [],
   "metadata": {}
  },
  {
   "cell_type": "code",
   "execution_count": null,
   "source": [
    "customer = 'torr'\n",
    "person = 'unknown'\n",
    "while person != customer:\n",
    "    print('{}, coffee is ready'.format(customer))\n",
    "    person=input('What is your name?')"
   ],
   "outputs": [],
   "metadata": {}
  },
  {
   "cell_type": "code",
   "execution_count": null,
   "source": [
    "a=[1,6,22,5,15,2,1,55,666,324,66]\n",
    "i=0   # index\n",
    "\n",
    "while i < len(a) :\n",
    "    if a[i] > int(50):\n",
    "        break\n",
    "    print(a[i])\n",
    "    i += 1\n",
    "print('End')"
   ],
   "outputs": [],
   "metadata": {}
  },
  {
   "cell_type": "code",
   "execution_count": null,
   "source": [
    "a=7\n",
    "while a > 0:\n",
    "    a-=1\n",
    "    if a==4:\n",
    "        continue\n",
    "    print(a)"
   ],
   "outputs": [],
   "metadata": {}
  },
  {
   "cell_type": "code",
   "execution_count": null,
   "source": [
    "a=[1,2,3,4,5,6,7,8,9]  #구구단\n",
    "i=1\n",
    "while i <= len(a):\n",
    "    for j in a:\n",
    "        print(i,'x',j,'=',i*j)\n",
    "    i += 1  \n",
    "print('-----\\nEnd')"
   ],
   "outputs": [],
   "metadata": {}
  },
  {
   "cell_type": "code",
   "execution_count": null,
   "source": [
    "menu = 0\n",
    "friends= []\n",
    "while menu != 9:\n",
    "    print(\"-------------\")\n",
    "    print(\"1. 친구 리스트 출력\")\n",
    "    print(\"2. 친구 추가\")\n",
    "    print(\"3. 친구 삭제\")\n",
    "    print(\"4. 이름 변경\")\n",
    "    print(\"9. 종료\")\n",
    "    menu= int(input(\"번호를 입력하시오(1~9):\"))\n",
    "    if menu == 1:\n",
    "        print(friends)\n",
    "    elif menu == 2:\n",
    "        name=input(\"추가할 이름을 입력하시오:\")\n",
    "        friends.append(name)\n",
    "    elif menu == 3:\n",
    "        del_name=input(\"삭제할 이름을 입력하시오:\")\n",
    "        if del_name in friends:\n",
    "            friends.remove(del_name)\n",
    "        else:\n",
    "            print(\"삭제할 이름이 존재하지 않습니다.\")\n",
    "    elif menu == 4:\n",
    "        old_name=input(\"변경할 이름을 입력하시오:\")\n",
    "        if old_name in friends:\n",
    "            index=friends.index(old_name)\n",
    "            new_name= input(\"새로운 이름을 입력하시오:\")\n",
    "            friends[index] = new_name\n",
    "        else:\n",
    "            print(\"이름이 없습니다.\")"
   ],
   "outputs": [],
   "metadata": {}
  },
  {
   "cell_type": "code",
   "execution_count": null,
   "source": [],
   "outputs": [],
   "metadata": {}
  }
 ],
 "metadata": {
  "kernelspec": {
   "name": "python3",
   "display_name": "Python 3.9.6 64-bit ('3.9')"
  },
  "language_info": {
   "codemirror_mode": {
    "name": "ipython",
    "version": 3
   },
   "file_extension": ".py",
   "mimetype": "text/x-python",
   "name": "python",
   "nbconvert_exporter": "python",
   "pygments_lexer": "ipython3",
   "version": "3.9.6"
  },
  "interpreter": {
   "hash": "7812ea015bdcee6f23a998adcdd2ef97c151c0c241b7b7070987d9313e41299d"
  }
 },
 "nbformat": 4,
 "nbformat_minor": 4
}