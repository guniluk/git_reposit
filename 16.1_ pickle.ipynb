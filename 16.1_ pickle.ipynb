{
 "cells": [
  {
   "cell_type": "markdown",
   "source": [
    "### <u> pickle </u>\n",
    "```python\n",
    "    import pickle\n",
    "    화일명변수 = open('화일명', 'wb or rb)\n",
    "    ~\n",
    "    pickle.dump(변수, 화일명변수) # 변수를 화일명변수 화일에 저장\n",
    "    pickle.load(화일명변수) # 화일명변수 화일을 읽음\n",
    "    \n",
    "    화일명변수.close()\n",
    "```\n",
    " - 딕셔너리, 리스트 같은 객체를 이진수로 저장하거나 읽음\n"
   ],
   "metadata": {}
  },
  {
   "cell_type": "code",
   "execution_count": 1,
   "source": [
    "import pickle\n",
    "profile_file=open('/users/guniluk/desktop/pg/data/profile.p', 'wb')  #b는 바이너리, 피클은 바이너리 타입을 씀\n",
    "profile={\n",
    "    '이름': '박명수', \n",
    "    '나이': 30, \n",
    "    '취미' : ['골프', '축구', '야구'],\n",
    "    '고향' : \"울산\"},\n",
    "print(profile)\n",
    "pickle.dump(profile, profile_file) #profile을 file로 저장\n",
    "\n",
    "profile_file.close()"
   ],
   "outputs": [
    {
     "output_type": "error",
     "ename": "TypeError",
     "evalue": "unhashable type: 'dict'",
     "traceback": [
      "\u001b[0;31m---------------------------------------------------------------------------\u001b[0m",
      "\u001b[0;31mTypeError\u001b[0m                                 Traceback (most recent call last)",
      "\u001b[0;32m/var/folders/0q/m5vzzqrj2dx93kbqbsbg3l3m0000gn/T/ipykernel_2539/2267915314.py\u001b[0m in \u001b[0;36m<module>\u001b[0;34m\u001b[0m\n\u001b[1;32m      1\u001b[0m \u001b[0;32mimport\u001b[0m \u001b[0mpickle\u001b[0m\u001b[0;34m\u001b[0m\u001b[0;34m\u001b[0m\u001b[0m\n\u001b[1;32m      2\u001b[0m \u001b[0mprofile_file\u001b[0m\u001b[0;34m=\u001b[0m\u001b[0mopen\u001b[0m\u001b[0;34m(\u001b[0m\u001b[0;34m'/users/guniluk/desktop/pg/data/profile.p'\u001b[0m\u001b[0;34m,\u001b[0m \u001b[0;34m'wb'\u001b[0m\u001b[0;34m)\u001b[0m  \u001b[0;31m#b는 바이너리, 피클은 바이너리 타입을 씀\u001b[0m\u001b[0;34m\u001b[0m\u001b[0;34m\u001b[0m\u001b[0m\n\u001b[0;32m----> 3\u001b[0;31m profile={\n\u001b[0m\u001b[1;32m      4\u001b[0m     {'이름': '박명수', \n\u001b[1;32m      5\u001b[0m     \u001b[0;34m'나이'\u001b[0m\u001b[0;34m:\u001b[0m \u001b[0;36m30\u001b[0m\u001b[0;34m,\u001b[0m\u001b[0;34m\u001b[0m\u001b[0;34m\u001b[0m\u001b[0m\n",
      "\u001b[0;31mTypeError\u001b[0m: unhashable type: 'dict'"
     ]
    }
   ],
   "metadata": {}
  },
  {
   "cell_type": "code",
   "execution_count": null,
   "source": [
    "import pickle\n",
    "profile_file=open('/users/guniluk/desktop/pg/data/profile.p', 'rb')  #b는 바이너리, 피클은 바이너리 타입을 씀\n",
    "profile=pickle.load(profile_file)\n",
    "print(profile)\n",
    "\n",
    "profile_file.close()"
   ],
   "outputs": [],
   "metadata": {}
  },
  {
   "cell_type": "markdown",
   "source": [
    "### <u> with open(file) as file_변수 </u>\n",
    "```python\n",
    "    with open('file name') as file변수\n",
    "```\n",
    " - close() 해줄 필요 없이 with문을 탈출하면서 자동으로 종료해 줌"
   ],
   "metadata": {}
  },
  {
   "cell_type": "code",
   "execution_count": null,
   "source": [
    "import pickle\n",
    "with open('/users/guniluk/desktop/pg/data/profile.p', 'rb') as profile_file:\n",
    "    print(pickle.load(profile_file))\n",
    "# close 해줄 필요 없이 with문을 탈출하면서 자동으로 종료해 줌"
   ],
   "outputs": [],
   "metadata": {}
  },
  {
   "cell_type": "code",
   "execution_count": null,
   "source": [
    "with open('/users/guniluk/desktop/pg/data/test3.txt', 'a', encoding='utf8') as study_file:\n",
    "    study_file.write('파일선을 열심히 공부하고 있어요')\n",
    "    \n",
    "with open('/users/guniluk/desktop/pg/data/test3.txt', 'r', encoding='utf8') as study_file:\n",
    "    print(study_file.read())"
   ],
   "outputs": [],
   "metadata": {}
  }
 ],
 "metadata": {
  "kernelspec": {
   "name": "python3",
   "display_name": "Python 3.9.6 64-bit ('3.9')"
  },
  "language_info": {
   "codemirror_mode": {
    "name": "ipython",
    "version": 3
   },
   "file_extension": ".py",
   "mimetype": "text/x-python",
   "name": "python",
   "nbconvert_exporter": "python",
   "pygments_lexer": "ipython3",
   "version": "3.9.6"
  },
  "interpreter": {
   "hash": "7812ea015bdcee6f23a998adcdd2ef97c151c0c241b7b7070987d9313e41299d"
  }
 },
 "nbformat": 4,
 "nbformat_minor": 4
}