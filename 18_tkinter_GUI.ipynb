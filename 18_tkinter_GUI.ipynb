{
 "metadata": {
  "language_info": {
   "codemirror_mode": {
    "name": "ipython",
    "version": 3
   },
   "file_extension": ".py",
   "mimetype": "text/x-python",
   "name": "python",
   "nbconvert_exporter": "python",
   "pygments_lexer": "ipython3",
   "version": "3.9.6"
  },
  "orig_nbformat": 4,
  "kernelspec": {
   "name": "python3",
   "display_name": "Python 3.9.6 64-bit"
  },
  "interpreter": {
   "hash": "7812ea015bdcee6f23a998adcdd2ef97c151c0c241b7b7070987d9313e41299d"
  }
 },
 "nbformat": 4,
 "nbformat_minor": 2,
 "cells": [
  {
   "cell_type": "markdown",
   "source": [
    "## <u>tkinter(파이썬의 공식 GUI)</u>\n",
    "#### Format\n",
    "```python\n",
    "    from tkinter import *\n",
    "    window=Tk()   #루트 윈도우 생성\n",
    "    라벨객체(위젯) = Label(window,속성)\n",
    "    엔트리객체(위젯) = Entry(window)  #나중에 값을 가져갈 때는 get() 매소드 사용\n",
    "    버튼객체(위젯) = Button(window, 속성, command=함수)\n",
    "    ~~\n",
    "    # 배치관리자\n",
    "    #압축배치관리자(위젯을 사각형 블럭으로 간주 컨테이너 안에 상하로 배치)\n",
    "    라벨/엔트리/버튼/객체.pack(side=LEFT, RIGHT, TOP, BOTTOM) #객체를 윈도우에 배치\n",
    "    #격자배치관리자: 2차원 격자에 배치\n",
    "    라벨/엔트리/버튼 객체.grid(row= , column= )\n",
    "    #절대위치관리자: x,y 좌표 지정\n",
    "    라벨/엔트리/버튼 객체.place(x= , y= )\n",
    "\n",
    "    window.mainloop() #윈도우가 사용자 동작을 대기\n",
    "```\n",
    "- 파이썬에서 GUI를 개발할때 필요한 모듈"
   ],
   "metadata": {}
  },
  {
   "cell_type": "code",
   "execution_count": 4,
   "source": [
    "from tkinter import *\n",
    "window=Tk()\n",
    "window.geometry(\"400x400\")\n",
    "window.config(background='#4192DB')\n",
    "\n",
    "Label(window, text=\"너비\").grid(row=0) \n",
    "Label(window, text=\"높이\").grid(row=1)\n",
    "e1=Entry(window)\n",
    "e2=Entry(window)\n",
    "e1.grid(row=0, column=1)\n",
    "e2.grid(row=1, column=1)\n",
    "Label(window, text=\"면적\").grid(row=0, column=2)\n",
    "e3=Label(window, text=\"정답\")\n",
    "e3.grid(row=1, column=2)\n",
    "\n",
    "def process():\n",
    "    e3['text']= str(eval(e1.get())*eval(e2.get())) \n",
    "\n",
    "Button(window, text=\"면적구하기\", bg=\"pink\", fg=\"blue\", command=process).grid(row=2, column=0, columnspan=2)\n",
    "\n",
    "window.mainloop()"
   ],
   "outputs": [],
   "metadata": {}
  },
  {
   "cell_type": "code",
   "execution_count": 14,
   "source": [
    "from tkinter import *\n",
    "window=Tk()\n",
    "window.geometry(\"400x400\")\n",
    "\n",
    "def process() :\n",
    "    tf=float(e1.get())\n",
    "    tc=(tf-32)*5/9\n",
    "    e2.delete(0,END) #처음부터 끝까지 지운다\n",
    "    e2.insert(0,str(tc))\n",
    "\n",
    "l1=Label(window, text=\"화씨\").grid(row=0, column=0) \n",
    "l2=Label(window, text=\"섭씨\").grid(row=1, column=0) \n",
    "e1=Entry(window)\n",
    "e1.grid(row=0, column=1)\n",
    "e2=Entry(window)\n",
    "e2.grid(row=1, column=1)\n",
    "Button(window, text=\"화씨-->섭씨\", command=process).grid(row=2, column=1,\n",
    "sticky=W+E+N+S)\n",
    "\n",
    "window.mainloop()"
   ],
   "outputs": [],
   "metadata": {}
  },
  {
   "cell_type": "code",
   "execution_count": 20,
   "source": [
    "#윈도우 안에 f 컨테이너 추가\n",
    "from tkinter import *\n",
    "window=Tk()\n",
    "\n",
    "def process() :\n",
    "    tf=float(e1.get())\n",
    "    tc=(tf-32)*5/9\n",
    "    e2.delete(0,END)\n",
    "    e2.insert(0,str(tc))\n",
    "\n",
    "window.geometry(\"600x500\")\n",
    "\n",
    "f= Frame(window)\n",
    "l1=Label(f, text=\"화씨\").grid(row=0, column=0) \n",
    "l2=Label(f, text=\"섭씨\").grid(row=1, column=0)\n",
    "e1=Entry(f)\n",
    "e1.grid(row=0, column=1)\n",
    "e2=Entry(f)\n",
    "e2.grid(row=1, column=1)\n",
    "Button(f, text=\"화씨-->섭씨\",bg=\"pink\", fg=\"blue\", command=process).grid(row=2, column=1)\n",
    "\n",
    "l3=Label(window, text=\"윈도우 컨테이너의 라벨\") \n",
    "l3.pack()\n",
    "f.pack()\n",
    "\n",
    "window.mainloop()"
   ],
   "outputs": [],
   "metadata": {}
  },
  {
   "cell_type": "code",
   "execution_count": null,
   "source": [],
   "outputs": [],
   "metadata": {}
  }
 ]
}