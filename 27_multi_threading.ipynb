{
 "cells": [
  {
   "cell_type": "code",
   "execution_count": null,
   "source": [
    "import time\n",
    "import threading  \n",
    "\n",
    "def eat():\n",
    "    time.sleep(3)\n",
    "    print('You ate breakfast')\n",
    "def drink():\n",
    "    time.sleep(4)\n",
    "    print('You drank coffee')\n",
    "def study():\n",
    "    time.sleep(5)\n",
    "    print('You finish studying')\n",
    "\n",
    "eat()\n",
    "drink()\n",
    "study()\n",
    "\n",
    "print(threading.active_count())\n",
    "print(threading.enumerate())"
   ],
   "outputs": [],
   "metadata": {}
  },
  {
   "cell_type": "code",
   "execution_count": null,
   "source": [
    "# Test Python by BYH\n",
    "import time\n",
    "import threading  \n",
    "#쓰레드는 코드를 처리하는 흐름.주로 메인 쓰레드만 있어 병렬적으로 처리\n",
    "#여러개의 쓰래드를 만들어 일을 concurrent하게 처리할 수 있음\n",
    "\n",
    "def eat():\n",
    "    time.sleep(3)\n",
    "    print('You ate breakfast')\n",
    "def drink():\n",
    "    time.sleep(4)\n",
    "    print('You drank coffee')\n",
    "def study():\n",
    "    time.sleep(5)\n",
    "    print('You finish studying')\n",
    "\n",
    "#Multi-threading, concurrent하게 병렬적으로 수행\n",
    "x=threading.Thread(target = eat,args=())\n",
    "x.start()\n",
    "y=threading.Thread(target = drink,args=())\n",
    "y.start()\n",
    "z=threading.Thread(target = study,args=())\n",
    "z.start()\n",
    "# 메인 쓰레드가 x,y,z 쓰레드가 종료할때까지 기다리는 방법\n",
    "x.join()\n",
    "y.join()\n",
    "z.join()\n",
    "\n",
    "# eat()\n",
    "# drink()\n",
    "# study()\n",
    "\n",
    "print(threading.active_count())\n",
    "print(threading.enumerate())"
   ],
   "outputs": [],
   "metadata": {}
  }
 ],
 "metadata": {
  "orig_nbformat": 4,
  "language_info": {
   "name": "python",
   "version": "3.9.6",
   "mimetype": "text/x-python",
   "codemirror_mode": {
    "name": "ipython",
    "version": 3
   },
   "pygments_lexer": "ipython3",
   "nbconvert_exporter": "python",
   "file_extension": ".py"
  },
  "kernelspec": {
   "name": "python3",
   "display_name": "Python 3.9.6 64-bit"
  },
  "interpreter": {
   "hash": "7812ea015bdcee6f23a998adcdd2ef97c151c0c241b7b7070987d9313e41299d"
  }
 },
 "nbformat": 4,
 "nbformat_minor": 2
}