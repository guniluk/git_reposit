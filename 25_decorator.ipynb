{
 "cells": [
  {
   "cell_type": "code",
   "execution_count": null,
   "source": [
    "import functools\n",
    "\n",
    "def start_end_decorator(func):\n",
    "    @functools.wraps(func)\n",
    "    def wrapper(*args, **kwargs):\n",
    "        print('Start')\n",
    "        result = func(*args, **kwargs)\n",
    "        print('End')\n",
    "        return result\n",
    "    return wrapper\n",
    "\n",
    "@start_end_decorator\n",
    "def add5(x):\n",
    "    return x+5\n",
    "\n",
    "add5(10)"
   ],
   "outputs": [],
   "metadata": {}
  },
  {
   "cell_type": "code",
   "execution_count": null,
   "source": [
    "import functools\n",
    "def repeat(num_times):\n",
    "    def decorator_repeat(func):\n",
    "        @functools.wraps(func)\n",
    "        def wrapper(*args, **kwargs):\n",
    "            for _ in range(num_times):\n",
    "                result = func(*args, **kwargs)\n",
    "            return result\n",
    "        return wrapper\n",
    "    return decorator_repeat \n",
    "\n",
    "@repeat(num_times=4)\n",
    "def hello(name):\n",
    "    print(f\"Hello {name}\")\n",
    "\n",
    "hello('byh')"
   ],
   "outputs": [],
   "metadata": {}
  },
  {
   "cell_type": "code",
   "execution_count": null,
   "source": [
    "class CountCalls:\n",
    "    def __init__(self, func):\n",
    "        self.func = func\n",
    "        self.num_calls = 0\n",
    "    \n",
    "    def __call__(self, *args, **kwargs):\n",
    "        # print('Hi, there')\n",
    "        self.num_calls += 1\n",
    "        print(f\"This is executed {self.num_calls} times\")\n",
    "        return self.func(*args, **kwargs)\n",
    "    \n",
    "\n",
    "# cc = CountCalls(None)\n",
    "# cc()\n",
    "\n",
    "@CountCalls\n",
    "def say_hello():\n",
    "    print('Hello!!')\n",
    "    \n",
    "say_hello()\n",
    "say_hello()\n",
    "say_hello()"
   ],
   "outputs": [],
   "metadata": {}
  }
 ],
 "metadata": {
  "orig_nbformat": 4,
  "language_info": {
   "name": "python",
   "version": "3.9.6",
   "mimetype": "text/x-python",
   "codemirror_mode": {
    "name": "ipython",
    "version": 3
   },
   "pygments_lexer": "ipython3",
   "nbconvert_exporter": "python",
   "file_extension": ".py"
  },
  "kernelspec": {
   "name": "python3",
   "display_name": "Python 3.9.6 64-bit"
  },
  "interpreter": {
   "hash": "7812ea015bdcee6f23a998adcdd2ef97c151c0c241b7b7070987d9313e41299d"
  }
 },
 "nbformat": 4,
 "nbformat_minor": 2
}