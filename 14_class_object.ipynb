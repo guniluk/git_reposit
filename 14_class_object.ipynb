{
 "cells": [
  {
   "cell_type": "markdown",
   "source": [
    "### <u>class(틀), object(실재 존재)</u>\n",
    "```python\n",
    "    class 이름:\n",
    "        클래스 변수 = 값   #클래스변수 정의(모든 객체에 공통인 변수)\n",
    "        상수는 클래스 변수로 정의\n",
    "        def __init__(self, 변수1, 변수2,)\n",
    "            인스턴트 변수 초기화  #객체마다 다른 값을 가짐\n",
    "        def 함수1 :   #메소드\n",
    "        def 함수n :   #메소드\n",
    "    \n",
    "    객체object(인스턴스instance) = class이름(변수1, 변수2) #객체 생성\n",
    "    객체.변수  #변수 호출\n",
    "    객체.메소드 #메소드 호출\n",
    "```\n",
    "- 클래스(사람)는 추상적인 타입, 틀로 함수,데이터의 모임(캡술화)\n",
    "    .속성(인스턴스 변수): 이름, 국적, 나이.. 메소드 안에서 self.붙여 정의 \n",
    "    .행동(메소드): 먹다, 자다, 일어나다\n",
    "- 객체(object, 홍길동, 임꺽정 등 실제 인물: class의 실체화된 인스턴스\n",
    "    . 객체는 사용할 수 있는 메소드를 가지고 있음\n",
    "- 파이썬은 모든 것이 객체(리스트, 문자열, 정수 등)\n"
   ],
   "metadata": {}
  },
  {
   "cell_type": "markdown",
   "source": [
    "### class 정의 및 생성"
   ],
   "metadata": {}
  },
  {
   "cell_type": "code",
   "execution_count": null,
   "source": [
    "a=[1,2,3,4,5] \n",
    "a.append(10) # a객체의 method\n",
    "print(a)"
   ],
   "outputs": [],
   "metadata": {}
  },
  {
   "cell_type": "code",
   "execution_count": null,
   "source": [
    "class person:\n",
    "    pass\n",
    "bob=person()\n",
    "kate=person()\n",
    "print(type(bob), type(kate))"
   ],
   "outputs": [],
   "metadata": {}
  },
  {
   "cell_type": "code",
   "execution_count": null,
   "source": [
    "class Organism:\n",
    "    live = True\n",
    "    \n",
    "class Animal(Organism):\n",
    "    def eat(self):\n",
    "        print(\"This animal is eating\")\n",
    "        return self\n",
    "\n",
    "class Dog(Animal):\n",
    "    def bark(self):\n",
    "        print(\"This dog is barking\")\n",
    "        return self\n",
    "    def sleep(self):\n",
    "        print(\"This dog is sleeping\")\n",
    "        return self\n",
    "\n",
    "dog = Dog()\n",
    "dog.eat().bark().sleep()"
   ],
   "outputs": [],
   "metadata": {}
  },
  {
   "cell_type": "code",
   "execution_count": null,
   "source": [
    "class person:\n",
    "    def __init__(self):\n",
    "        print(self, 'is generated')\n",
    "        self.name='kate'   #name, age는 멤버변수\n",
    "        self.age=10\n",
    "\n",
    "p1=person()\n",
    "p2=person()\n",
    "\n",
    "p1.name='youngha'\n",
    "p1.age=50\n",
    "print(p1.name, p1.age)"
   ],
   "outputs": [],
   "metadata": {}
  },
  {
   "cell_type": "code",
   "execution_count": null,
   "source": [
    "class person:\n",
    "    def __init__(self, name, age=40):\n",
    "        #print(self, 'is generated')\n",
    "        self.name=name\n",
    "        self.age=age\n",
    "\n",
    "p1=person('tom', 50)\n",
    "p2=person('ypu', 30)\n",
    "p3=person('baek')\n",
    "\n",
    "print(p1.name, p1.age)\n",
    "print(p2.name, p2.age)\n",
    "print(p3.name, p3.age)\n"
   ],
   "outputs": [],
   "metadata": {}
  },
  {
   "cell_type": "markdown",
   "source": [
    "### self 키워드 이해하기"
   ],
   "metadata": {}
  },
  {
   "cell_type": "code",
   "execution_count": null,
   "source": [
    "class person:\n",
    "    def __init__(self, name, age=40):  #__init__ 생성자\n",
    "        self.name=name\n",
    "        self.age=age\n",
    "    def sleep(self):\n",
    "        print(self.name, '은 잠을 잠니다')\n",
    "      \n",
    "a=person('aa', 50)\n",
    "b=person('bb', 60)\n",
    "print(a)\n",
    "print(b)\n",
    "\n",
    "a.sleep()\n",
    "b.sleep()"
   ],
   "outputs": [],
   "metadata": {}
  },
  {
   "cell_type": "markdown",
   "source": [
    "### method 정의\n",
    "- 멤버함수라고 하며, 클래스의 object에서만 호출가능\n",
    "- 행동을 의미. 해당 객체의 속성에 대한 연산을 행함 "
   ],
   "metadata": {}
  },
  {
   "cell_type": "code",
   "execution_count": null,
   "source": [
    "class Counter: #데이터 숫자를 증가, 0으로 초기화 등\n",
    "    def __init__(self):\n",
    "        self.num = 0    \n",
    "    def increment(self):\n",
    "        self.num += 1\n",
    "    def reset(self):\n",
    "        self.num = 0\n",
    "    def print_current_value(self):\n",
    "        print('현재 값은:', self.num)\n",
    "    def __str__(self):\n",
    "        msg = \"data no.: \"+str(self.num)\n",
    "        return msg\n",
    "\n",
    "c1 = Counter()\n",
    "c1.print_current_value()\n",
    "c1.increment()\n",
    "c1.increment()\n",
    "c1.print_current_value()\n",
    "c1.reset()\n",
    "c1.print_current_value()\n",
    "print(c1)  # __str__(self) 메소드에 의해 msg가 표시됨\n"
   ],
   "outputs": [],
   "metadata": {}
  },
  {
   "cell_type": "markdown",
   "source": [
    "### method 타입\n",
    "- instance method: 해당 메소드 호출한 객체에만 영향 미침\n",
    "- class method(static method): 클래스 레벨로 호출되어 클래스 멤버 변수만 변경 가능"
   ],
   "metadata": {}
  },
  {
   "cell_type": "code",
   "execution_count": null,
   "source": [
    "class math2:    # math2에서는 속성 없이 연산만 하므로 객체지정 필요없이 classmethod로 작성\n",
    "    def __init__(self):\n",
    "        pass\n",
    "    def add2(a, b):\n",
    "        return a+b\n",
    "    def multi2(a,b):\n",
    "        return a*b\n",
    "print(math2.add2(1,100)) #class 이름으로 호출\n",
    "print(math2.multi2(3,6))"
   ],
   "outputs": [],
   "metadata": {}
  },
  {
   "cell_type": "code",
   "execution_count": null,
   "source": [
    "import math\n",
    "class Circle:\n",
    "    def __init__(self, radius=0):\n",
    "        self.__radius=radius  #__radius: class외부에서 변경 못함, \n",
    "    def getArea(self):\n",
    "        return math.pi*self.__radius**2 #접근자/설정자를 통해 접근, 변경 가능 \n",
    "    def getPerimeter(self):\n",
    "        return 2*math.pi*self.__radius\n",
    "\n",
    "c=Circle(10)\n",
    "print(f\"원의 면적: {c.getArea()}\")\n",
    "print(f\"원의 둘레: {c.getPerimeter()}\")\n",
    "# print(c.radius) #정보은닉된 것으로 접근자/설정자가 아니어서 에러\n"
   ],
   "outputs": [],
   "metadata": {}
  },
  {
   "cell_type": "markdown",
   "source": [
    "### class 상속 (코드를 재 사용하기)\n",
    "- 부모 클래스, 자식 클래스"
   ],
   "metadata": {}
  },
  {
   "cell_type": "code",
   "execution_count": null,
   "source": [
    "class person:  #부모 클래스\n",
    "    def __init__(self, name, age=40):\n",
    "        self.name=name\n",
    "        self.age=age\n",
    "    def eat(self, food):\n",
    "        print('{0}은 {1}을 먹습니다'.format(self.name, food))\n",
    "        \n",
    "    def sleep(self, minute):\n",
    "        print('{0}은 {1}분 동안 잡니다'.format(self.name, minute))\n",
    "        \n",
    "    def work(self, minute):\n",
    "        print('{0}은 {1}분 동안 일합니다'.format(self.name, minute))\n",
    "    \n",
    "\n",
    "class student(person): #()안에 상속받고자 하는 class명을 씀, 자식 클래스\n",
    "    def __init__(self, name, age=40):\n",
    "        self.name=name\n",
    "        self.age=age\n",
    "    def work(self, minute):   #method overide, 메소드 재정의\n",
    "        print('{0}은 {1}분 동안 공부합니다'.format(self.name, minute))\n",
    "\n",
    "class employee(person):#()안에 상속받고자 하는 class명을 씀\n",
    "    pass\n",
    "\n",
    "a=student('youngha', 50)\n",
    "\n",
    "a.eat('라면')\n",
    "a.work(50)\n",
    "a.sleep(70)\n",
    "    "
   ],
   "outputs": [],
   "metadata": {}
  },
  {
   "cell_type": "markdown",
   "source": [
    "### super : method overiding 시 부모 클래스의 메소드를 호출하는 방법"
   ],
   "metadata": {}
  },
  {
   "cell_type": "code",
   "execution_count": null,
   "source": [
    "class person:  #부모 클래스  공통적인 기능을 정의\n",
    "    def __init__(self, name, age=40):\n",
    "        self.name=name\n",
    "        self.age=age\n",
    "    def eat(self, food):\n",
    "        print('{0}은 {1}을 먹습니다'.format(self.name, food))\n",
    "        \n",
    "    def sleep(self, minute):\n",
    "        print('{0}은 {1}분 동안 잡니다'.format(self.name, minute))\n",
    "        \n",
    "    def work(self, minute):\n",
    "        print('{0}은 {1}분 동안 일할 준비를 합니다'.format(self.name, minute))\n",
    "    \n",
    "\n",
    "class student(person): #()안에 상속받고자 하는 class명을 씀, 자식 클래스\n",
    "    def __init__(self, name, age=40):\n",
    "        self.name=name\n",
    "        self.age=age\n",
    "    def work(self, minute):   #method overide, 메소드 재정의\n",
    "        super().work(minute)\n",
    "        print('{0}은 {1}분 동안 공부합니다'.format(self.name, minute))\n",
    "        \n",
    "a=student('youngha', 50)\n",
    "\n",
    "a.eat('라면')\n",
    "a.work(50)\n",
    "a.sleep(70)"
   ],
   "outputs": [],
   "metadata": {}
  },
  {
   "cell_type": "code",
   "execution_count": null,
   "source": [
    "class Person :\n",
    "    def __init__(self, name, age):\n",
    "        self.name = name\n",
    "        self.age = age\n",
    "    def show(self):\n",
    "        print(self.name, self.age)\n",
    "class Student :\n",
    "    def __init__(self, id):\n",
    "        self.id = id\n",
    "    def getid(self):\n",
    "        return self.id\n",
    "\n",
    "class CollegeStudent(Person, Student):\n",
    "    def __init__(self, name, age, id):\n",
    "        Person.__init__(self, name, age)\n",
    "        Student.__init__(self, id)\n",
    "\n",
    "obj = CollegeStudent(\"백건욱\", 22, '2001223')\n",
    "obj.show()\n",
    "print(obj.getid())\n",
    "\n",
    "    "
   ],
   "outputs": [],
   "metadata": {}
  },
  {
   "cell_type": "markdown",
   "source": [
    "### 기본 object 활용하기"
   ],
   "metadata": {}
  },
  {
   "cell_type": "code",
   "execution_count": null,
   "source": [
    "class point:\n",
    "    def __init__(self, x,y):\n",
    "        self.x=x\n",
    "        self.y=y\n",
    "    def add(self, pt):\n",
    "        new_x=self.x+pt.x\n",
    "        new_y=self.y+pt.y\n",
    "        return point(new_x, new_y)\n",
    "    \n",
    "    def __str__(self):\n",
    "        return '({}, {})'.format(self.x, self.y)\n",
    "\n",
    "p1=point(10,100)\n",
    "p2=point(3,30)\n",
    "\n",
    "p1.add(p2)\n",
    "print(p1, p2, p1.add(p2))\n"
   ],
   "outputs": [],
   "metadata": {}
  },
  {
   "cell_type": "code",
   "execution_count": null,
   "source": [
    "\n",
    "class point:\n",
    "\n",
    "    def __init__(self, x,y):\n",
    "        self.x=x\n",
    "        self.y=y\n",
    "    def __add__(self, pt):\n",
    "        new_x=self.x+pt.x\n",
    "        new_y=self.y+pt.y\n",
    "        return point(new_x, new_y)\n",
    "    def __sub__(self, pt):\n",
    "        new_x=self.x-pt.x\n",
    "        new_y=self.y-pt.y\n",
    "        return point(new_x, new_y)\n",
    "    def __mul__(self, factor):\n",
    "        return point(self.x*factor, self.y*factor)\n",
    "    def __len__(self):\n",
    "        return self.x**2 + self.y**2\n",
    "    def get_x(self):\n",
    "        return self.x\n",
    "    def get_y(self):\n",
    "        return self.y\n",
    "    def __str__(self):\n",
    "        return '({}, {})'.format(self.x, self.y)\n",
    "\n",
    "p1=point(10,100)\n",
    "p2=point(33,30)\n",
    "#print(p1, p2, p1+p2, p1-p2, p1.multiply(3))\n",
    "#print(p1, p2, p1+p2, p1-p2, p1*5, p1.length())\n",
    "print(p1, p2, p1+p2, p1-p2, p1*5, len(p1))\n",
    "\n",
    "print(p2.get_x())\n",
    "print(p2.get_y())"
   ],
   "outputs": [],
   "metadata": {}
  },
  {
   "cell_type": "code",
   "execution_count": null,
   "source": [],
   "outputs": [],
   "metadata": {}
  }
 ],
 "metadata": {
  "kernelspec": {
   "name": "python3",
   "display_name": "Python 3.9.6 64-bit"
  },
  "language_info": {
   "codemirror_mode": {
    "name": "ipython",
    "version": 3
   },
   "file_extension": ".py",
   "mimetype": "text/x-python",
   "name": "python",
   "nbconvert_exporter": "python",
   "pygments_lexer": "ipython3",
   "version": "3.9.6"
  },
  "interpreter": {
   "hash": "7812ea015bdcee6f23a998adcdd2ef97c151c0c241b7b7070987d9313e41299d"
  }
 },
 "nbformat": 4,
 "nbformat_minor": 4
}